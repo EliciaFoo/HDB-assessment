{
 "cells": [
  {
   "cell_type": "markdown",
   "metadata": {},
   "source": [
    "## Importing Libraries"
   ]
  },
  {
   "cell_type": "code",
   "execution_count": 1,
   "metadata": {},
   "outputs": [],
   "source": [
    "import pandas as pd\n",
    "import numpy as np\n",
    "import os\n",
    "import matplotlib.pyplot as plt\n",
    "import seaborn as sns\n",
    "%matplotlib inline"
   ]
  },
  {
   "cell_type": "markdown",
   "metadata": {},
   "source": [
    "## Reading data"
   ]
  },
  {
   "cell_type": "code",
   "execution_count": 2,
   "metadata": {},
   "outputs": [],
   "source": [
    "df = pd.read_csv(\"RentingOutofFlats2024CSV.csv\")"
   ]
  },
  {
   "cell_type": "code",
   "execution_count": 3,
   "metadata": {},
   "outputs": [
    {
     "data": {
      "text/html": [
       "<div>\n",
       "<style scoped>\n",
       "    .dataframe tbody tr th:only-of-type {\n",
       "        vertical-align: middle;\n",
       "    }\n",
       "\n",
       "    .dataframe tbody tr th {\n",
       "        vertical-align: top;\n",
       "    }\n",
       "\n",
       "    .dataframe thead th {\n",
       "        text-align: right;\n",
       "    }\n",
       "</style>\n",
       "<table border=\"1\" class=\"dataframe\">\n",
       "  <thead>\n",
       "    <tr style=\"text-align: right;\">\n",
       "      <th></th>\n",
       "      <th>rent_approval_date</th>\n",
       "      <th>town</th>\n",
       "      <th>block</th>\n",
       "      <th>street_name</th>\n",
       "      <th>flat_type</th>\n",
       "      <th>monthly_rent</th>\n",
       "    </tr>\n",
       "  </thead>\n",
       "  <tbody>\n",
       "    <tr>\n",
       "      <th>0</th>\n",
       "      <td>2021-01</td>\n",
       "      <td>ANG MO KIO</td>\n",
       "      <td>105</td>\n",
       "      <td>ANG MO KIO AVE 4</td>\n",
       "      <td>4-ROOM</td>\n",
       "      <td>2000</td>\n",
       "    </tr>\n",
       "    <tr>\n",
       "      <th>1</th>\n",
       "      <td>2021-01</td>\n",
       "      <td>ANG MO KIO</td>\n",
       "      <td>107</td>\n",
       "      <td>ANG MO KIO AVE 4</td>\n",
       "      <td>3-ROOM</td>\n",
       "      <td>1750</td>\n",
       "    </tr>\n",
       "    <tr>\n",
       "      <th>2</th>\n",
       "      <td>2021-01</td>\n",
       "      <td>ANG MO KIO</td>\n",
       "      <td>108</td>\n",
       "      <td>ANG MO KIO AVE 4</td>\n",
       "      <td>3-ROOM</td>\n",
       "      <td>1750</td>\n",
       "    </tr>\n",
       "    <tr>\n",
       "      <th>3</th>\n",
       "      <td>2021-01</td>\n",
       "      <td>ANG MO KIO</td>\n",
       "      <td>111</td>\n",
       "      <td>ANG MO KIO AVE 4</td>\n",
       "      <td>5-ROOM</td>\n",
       "      <td>2230</td>\n",
       "    </tr>\n",
       "    <tr>\n",
       "      <th>4</th>\n",
       "      <td>2021-01</td>\n",
       "      <td>ANG MO KIO</td>\n",
       "      <td>111</td>\n",
       "      <td>ANG MO KIO AVE 4</td>\n",
       "      <td>5-ROOM</td>\n",
       "      <td>2450</td>\n",
       "    </tr>\n",
       "  </tbody>\n",
       "</table>\n",
       "</div>"
      ],
      "text/plain": [
       "  rent_approval_date        town block       street_name flat_type  \\\n",
       "0            2021-01  ANG MO KIO   105  ANG MO KIO AVE 4    4-ROOM   \n",
       "1            2021-01  ANG MO KIO   107  ANG MO KIO AVE 4    3-ROOM   \n",
       "2            2021-01  ANG MO KIO   108  ANG MO KIO AVE 4    3-ROOM   \n",
       "3            2021-01  ANG MO KIO   111  ANG MO KIO AVE 4    5-ROOM   \n",
       "4            2021-01  ANG MO KIO   111  ANG MO KIO AVE 4    5-ROOM   \n",
       "\n",
       "   monthly_rent  \n",
       "0          2000  \n",
       "1          1750  \n",
       "2          1750  \n",
       "3          2230  \n",
       "4          2450  "
      ]
     },
     "execution_count": 3,
     "metadata": {},
     "output_type": "execute_result"
    }
   ],
   "source": [
    "df.head()"
   ]
  },
  {
   "cell_type": "markdown",
   "metadata": {},
   "source": [
    "## Data Exploration"
   ]
  },
  {
   "cell_type": "code",
   "execution_count": 4,
   "metadata": {},
   "outputs": [
    {
     "data": {
      "text/plain": [
       "array(['ANG MO KIO', 'BEDOK', 'BISHAN', 'BUKIT BATOK', 'BUKIT MERAH',\n",
       "       'BUKIT PANJANG', 'BUKIT TIMAH', 'CENTRAL', 'CHOA CHU KANG',\n",
       "       'CLEMENTI', 'GEYLANG', 'HOUGANG', 'JURONG EAST', 'JURONG WEST',\n",
       "       'KALLANG/WHAMPOA', 'MARINE PARADE', 'PASIR RIS', 'PUNGGOL',\n",
       "       'QUEENSTOWN', 'SEMBAWANG', 'SENGKANG', 'SERANGOON', 'TAMPINES',\n",
       "       'TOA PAYOH', 'WOODLANDS', 'YISHUN', 'TENGAH'], dtype=object)"
      ]
     },
     "execution_count": 4,
     "metadata": {},
     "output_type": "execute_result"
    }
   ],
   "source": [
    "df['town'].unique()"
   ]
  },
  {
   "cell_type": "code",
   "execution_count": 5,
   "metadata": {},
   "outputs": [
    {
     "data": {
      "text/plain": [
       "array(['4-ROOM', '3-ROOM', '5-ROOM', '2-ROOM', 'EXECUTIVE', '1-ROOM'],\n",
       "      dtype=object)"
      ]
     },
     "execution_count": 5,
     "metadata": {},
     "output_type": "execute_result"
    }
   ],
   "source": [
    "df['flat_type'].unique()"
   ]
  },
  {
   "cell_type": "code",
   "execution_count": 6,
   "metadata": {},
   "outputs": [],
   "source": [
    "date = df['rent_approval_date'].str.split(\"-\",n=1, expand=True)"
   ]
  },
  {
   "cell_type": "code",
   "execution_count": 7,
   "metadata": {},
   "outputs": [],
   "source": [
    "df['rent_approval_year'] = date[0]"
   ]
  },
  {
   "cell_type": "code",
   "execution_count": 8,
   "metadata": {},
   "outputs": [
    {
     "data": {
      "text/html": [
       "<div>\n",
       "<style scoped>\n",
       "    .dataframe tbody tr th:only-of-type {\n",
       "        vertical-align: middle;\n",
       "    }\n",
       "\n",
       "    .dataframe tbody tr th {\n",
       "        vertical-align: top;\n",
       "    }\n",
       "\n",
       "    .dataframe thead th {\n",
       "        text-align: right;\n",
       "    }\n",
       "</style>\n",
       "<table border=\"1\" class=\"dataframe\">\n",
       "  <thead>\n",
       "    <tr style=\"text-align: right;\">\n",
       "      <th></th>\n",
       "      <th>monthly_rent</th>\n",
       "    </tr>\n",
       "  </thead>\n",
       "  <tbody>\n",
       "    <tr>\n",
       "      <th>count</th>\n",
       "      <td>142826.000000</td>\n",
       "    </tr>\n",
       "    <tr>\n",
       "      <th>mean</th>\n",
       "      <td>2684.562300</td>\n",
       "    </tr>\n",
       "    <tr>\n",
       "      <th>std</th>\n",
       "      <td>748.502989</td>\n",
       "    </tr>\n",
       "    <tr>\n",
       "      <th>min</th>\n",
       "      <td>300.000000</td>\n",
       "    </tr>\n",
       "    <tr>\n",
       "      <th>25%</th>\n",
       "      <td>2100.000000</td>\n",
       "    </tr>\n",
       "    <tr>\n",
       "      <th>50%</th>\n",
       "      <td>2600.000000</td>\n",
       "    </tr>\n",
       "    <tr>\n",
       "      <th>75%</th>\n",
       "      <td>3200.000000</td>\n",
       "    </tr>\n",
       "    <tr>\n",
       "      <th>max</th>\n",
       "      <td>7600.000000</td>\n",
       "    </tr>\n",
       "  </tbody>\n",
       "</table>\n",
       "</div>"
      ],
      "text/plain": [
       "        monthly_rent\n",
       "count  142826.000000\n",
       "mean     2684.562300\n",
       "std       748.502989\n",
       "min       300.000000\n",
       "25%      2100.000000\n",
       "50%      2600.000000\n",
       "75%      3200.000000\n",
       "max      7600.000000"
      ]
     },
     "execution_count": 8,
     "metadata": {},
     "output_type": "execute_result"
    }
   ],
   "source": [
    "df.describe()"
   ]
  },
  {
   "cell_type": "code",
   "execution_count": 9,
   "metadata": {},
   "outputs": [
    {
     "name": "stdout",
     "output_type": "stream",
     "text": [
      "<class 'pandas.core.frame.DataFrame'>\n",
      "RangeIndex: 142826 entries, 0 to 142825\n",
      "Data columns (total 7 columns):\n",
      " #   Column              Non-Null Count   Dtype \n",
      "---  ------              --------------   ----- \n",
      " 0   rent_approval_date  142826 non-null  object\n",
      " 1   town                142826 non-null  object\n",
      " 2   block               142826 non-null  object\n",
      " 3   street_name         142826 non-null  object\n",
      " 4   flat_type           142826 non-null  object\n",
      " 5   monthly_rent        142826 non-null  int64 \n",
      " 6   rent_approval_year  142826 non-null  object\n",
      "dtypes: int64(1), object(6)\n",
      "memory usage: 7.6+ MB\n"
     ]
    }
   ],
   "source": [
    "df.info()"
   ]
  },
  {
   "cell_type": "code",
   "execution_count": 10,
   "metadata": {},
   "outputs": [
    {
     "data": {
      "text/plain": [
       "<AxesSubplot:>"
      ]
     },
     "execution_count": 10,
     "metadata": {},
     "output_type": "execute_result"
    },
    {
     "data": {
      "image/png": "[encoded data removed]",
      "text/plain": [
       "<Figure size 432x288 with 1 Axes>"
      ]
     },
     "metadata": {
      "needs_background": "light"
     },
     "output_type": "display_data"
    }
   ],
   "source": [
    "df.plot()"
   ]
  },
  {
   "cell_type": "code",
   "execution_count": 77,
   "metadata": {},
   "outputs": [],
   "source": [
    "average_price_by_year =df.groupby('rent_approval_year')['monthly_rent'].mean().round(2).reset_index()\n",
    "average_price_by_year.columns = ['rent_approval_year', 'average_rent_byyear']\n",
    "\n",
    "no_of_rents = df.groupby('rent_approval_year')['monthly_rent'].value_counts()\n",
    "no_of_rents.columns = ['rent_approval_year', 'no_of_rents']\n",
    "no_of_rents_df = no_of_rents.reset_index(name='count')"
   ]
  },
  {
   "cell_type": "code",
   "execution_count": 82,
   "metadata": {},
   "outputs": [
    {
     "data": {
      "image/png": "[encoded data removed]",
      "text/plain": [
       "<Figure size 432x288 with 2 Axes>"
      ]
     },
     "metadata": {
      "needs_background": "light"
     },
     "output_type": "display_data"
    }
   ],
   "source": [
    "# Create the plot\n",
    "fig, ax1 = plt.subplots()\n",
    "\n",
    "ax1.bar(no_of_rents_df[\"rent_approval_year\"], no_of_rents_df[\"count\"], color='blue', label='Vol. of transactions', width=0.4)\n",
    "ax1.set_ylabel('Vol. of transactions', color='blue')\n",
    "ax1.tick_params(axis='y', labelcolor='blue')\n",
    "\n",
    "ax2 = ax1.twinx()\n",
    "ax2.plot(average_price_by_year['rent_approval_year'], average_price_by_year['average_rent_byyear'], color='green', marker='o', label='Line Data')\n",
    "ax2.set_ylabel('Avg rent price', color='green')\n",
    "ax2.tick_params(axis='y', labelcolor='green')"
   ]
  },
  {
   "cell_type": "code",
   "execution_count": 48,
   "metadata": {},
   "outputs": [
    {
     "data": {
      "image/png": "[encoded data removed]",
      "text/plain": [
       "<Figure size 432x288 with 1 Axes>"
      ]
     },
     "metadata": {
      "needs_background": "light"
     },
     "output_type": "display_data"
    }
   ],
   "source": [
    "average_price_by_date = average_price_by_date.sort_values(by='average_rent_bydate', ascending=True)\n",
    "ax = average_price_by_date.plot.line(x='rent_approval_date', y='average_rent_bydate', rot=0)"
   ]
  },
  {
   "cell_type": "code",
   "execution_count": 17,
   "metadata": {},
   "outputs": [],
   "source": [
    "average_price_by_type =df.groupby('flat_type')['monthly_rent'].mean().round(2).reset_index()\n",
    "average_price_by_type.columns = ['flat_type', 'average_rent_bytype']"
   ]
  },
  {
   "cell_type": "code",
   "execution_count": 20,
   "metadata": {},
   "outputs": [
    {
     "data": {
      "image/png": "[encoded data removed]",
      "text/plain": [
       "<Figure size 432x288 with 1 Axes>"
      ]
     },
     "metadata": {
      "needs_background": "light"
     },
     "output_type": "display_data"
    }
   ],
   "source": [
    "average_price_by_type = average_price_by_type.sort_values(by='average_rent_bytype', ascending=True)\n",
    "ax = average_price_by_type.plot.bar(x='flat_type', y='average_rent_bytype', rot=90)"
   ]
  },
  {
   "cell_type": "code",
   "execution_count": 42,
   "metadata": {},
   "outputs": [],
   "source": [
    "average_price_by_town =df.groupby('town')['monthly_rent'].mean().round(2).reset_index()\n",
    "average_price_by_town.columns = ['town', 'average_rent_bytown']"
   ]
  },
  {
   "cell_type": "code",
   "execution_count": 43,
   "metadata": {},
   "outputs": [],
   "source": [
    "average_price_by_town = average_price_by_town.sort_values(by='average_rent_bytown', ascending=False)"
   ]
  },
  {
   "cell_type": "code",
   "execution_count": 44,
   "metadata": {},
   "outputs": [
    {
     "data": {
      "image/png": "[encoded data removed]",
      "text/plain": [
       "<Figure size 432x288 with 1 Axes>"
      ]
     },
     "metadata": {
      "needs_background": "light"
     },
     "output_type": "display_data"
    }
   ],
   "source": [
    "ax = average_price_by_town.plot.bar(x='town', y='average_rent_bytown', rot=90)"
   ]
  },
  {
   "cell_type": "code",
   "execution_count": 45,
   "metadata": {},
   "outputs": [],
   "source": [
    "average_price_by_town_type =df.groupby(['town','flat_type'])['monthly_rent'].mean().round(2).reset_index()\n",
    "average_price_by_town_type.columns = ['town', 'flat_type', 'average_rent_bytown_bytype']\n",
    "average_price_by_town_type = average_price_by_town_type.sort_values(by='average_rent_bytown_bytype', ascending=False)"
   ]
  },
  {
   "cell_type": "code",
   "execution_count": 46,
   "metadata": {},
   "outputs": [
    {
     "data": {
      "image/png": "[encoded data removed]",
      "text/plain": [
       "<Figure size 432x288 with 1 Axes>"
      ]
     },
     "metadata": {
      "needs_background": "light"
     },
     "output_type": "display_data"
    }
   ],
   "source": [
    "ax = average_price_by_town_type[average_price_by_town_type['flat_type'] == '4-ROOM'].plot.bar(x='town', y='average_rent_bytown_bytype', rot=90)\n",
    "ax.set_title('Average 4-ROOM flat rental price by town', fontsize=16)\n",
    "ax.set_xlabel('town', fontsize=12)\n",
    "ax.set_ylabel('average_rent_bytown_bytype', fontsize=12)\n",
    "plt.show()"
   ]
  },
  {
   "cell_type": "code",
   "execution_count": 23,
   "metadata": {},
   "outputs": [],
   "source": [
    "df['address'] = df['block'] + \" \" + df['street_name']"
   ]
  },
  {
   "cell_type": "markdown",
   "metadata": {},
   "source": [
    "## Supplementing with other datasets"
   ]
  },
  {
   "cell_type": "code",
   "execution_count": 24,
   "metadata": {},
   "outputs": [],
   "source": [
    "df_info = pd.read_csv(\"HDBPropertyInformation.csv\")"
   ]
  },
  {
   "cell_type": "code",
   "execution_count": 25,
   "metadata": {},
   "outputs": [
    {
     "data": {
      "text/html": [
       "<div>\n",
       "<style scoped>\n",
       "    .dataframe tbody tr th:only-of-type {\n",
       "        vertical-align: middle;\n",
       "    }\n",
       "\n",
       "    .dataframe tbody tr th {\n",
       "        vertical-align: top;\n",
       "    }\n",
       "\n",
       "    .dataframe thead th {\n",
       "        text-align: right;\n",
       "    }\n",
       "</style>\n",
       "<table border=\"1\" class=\"dataframe\">\n",
       "  <thead>\n",
       "    <tr style=\"text-align: right;\">\n",
       "      <th></th>\n",
       "      <th>blk_no</th>\n",
       "      <th>street</th>\n",
       "      <th>max_floor_lvl</th>\n",
       "      <th>year_completed</th>\n",
       "      <th>residential</th>\n",
       "      <th>commercial</th>\n",
       "      <th>market_hawker</th>\n",
       "      <th>miscellaneous</th>\n",
       "      <th>multistorey_carpark</th>\n",
       "      <th>precinct_pavilion</th>\n",
       "      <th>...</th>\n",
       "      <th>3room_sold</th>\n",
       "      <th>4room_sold</th>\n",
       "      <th>5room_sold</th>\n",
       "      <th>exec_sold</th>\n",
       "      <th>multigen_sold</th>\n",
       "      <th>studio_apartment_sold</th>\n",
       "      <th>1room_rental</th>\n",
       "      <th>2room_rental</th>\n",
       "      <th>3room_rental</th>\n",
       "      <th>other_room_rental</th>\n",
       "    </tr>\n",
       "  </thead>\n",
       "  <tbody>\n",
       "    <tr>\n",
       "      <th>0</th>\n",
       "      <td>1</td>\n",
       "      <td>BEACH RD</td>\n",
       "      <td>16</td>\n",
       "      <td>1970</td>\n",
       "      <td>Y</td>\n",
       "      <td>Y</td>\n",
       "      <td>N</td>\n",
       "      <td>N</td>\n",
       "      <td>N</td>\n",
       "      <td>N</td>\n",
       "      <td>...</td>\n",
       "      <td>138</td>\n",
       "      <td>1</td>\n",
       "      <td>2</td>\n",
       "      <td>0</td>\n",
       "      <td>0</td>\n",
       "      <td>0</td>\n",
       "      <td>0</td>\n",
       "      <td>0</td>\n",
       "      <td>0</td>\n",
       "      <td>0</td>\n",
       "    </tr>\n",
       "    <tr>\n",
       "      <th>1</th>\n",
       "      <td>1</td>\n",
       "      <td>BEDOK STH AVE 1</td>\n",
       "      <td>14</td>\n",
       "      <td>1975</td>\n",
       "      <td>Y</td>\n",
       "      <td>N</td>\n",
       "      <td>N</td>\n",
       "      <td>Y</td>\n",
       "      <td>N</td>\n",
       "      <td>N</td>\n",
       "      <td>...</td>\n",
       "      <td>204</td>\n",
       "      <td>0</td>\n",
       "      <td>2</td>\n",
       "      <td>0</td>\n",
       "      <td>0</td>\n",
       "      <td>0</td>\n",
       "      <td>0</td>\n",
       "      <td>0</td>\n",
       "      <td>0</td>\n",
       "      <td>0</td>\n",
       "    </tr>\n",
       "    <tr>\n",
       "      <th>2</th>\n",
       "      <td>1</td>\n",
       "      <td>CANTONMENT RD</td>\n",
       "      <td>2</td>\n",
       "      <td>2010</td>\n",
       "      <td>N</td>\n",
       "      <td>Y</td>\n",
       "      <td>N</td>\n",
       "      <td>N</td>\n",
       "      <td>N</td>\n",
       "      <td>N</td>\n",
       "      <td>...</td>\n",
       "      <td>0</td>\n",
       "      <td>0</td>\n",
       "      <td>0</td>\n",
       "      <td>0</td>\n",
       "      <td>0</td>\n",
       "      <td>0</td>\n",
       "      <td>0</td>\n",
       "      <td>0</td>\n",
       "      <td>0</td>\n",
       "      <td>0</td>\n",
       "    </tr>\n",
       "    <tr>\n",
       "      <th>3</th>\n",
       "      <td>1</td>\n",
       "      <td>CHAI CHEE RD</td>\n",
       "      <td>15</td>\n",
       "      <td>1982</td>\n",
       "      <td>Y</td>\n",
       "      <td>N</td>\n",
       "      <td>N</td>\n",
       "      <td>N</td>\n",
       "      <td>N</td>\n",
       "      <td>N</td>\n",
       "      <td>...</td>\n",
       "      <td>0</td>\n",
       "      <td>10</td>\n",
       "      <td>92</td>\n",
       "      <td>0</td>\n",
       "      <td>0</td>\n",
       "      <td>0</td>\n",
       "      <td>0</td>\n",
       "      <td>0</td>\n",
       "      <td>0</td>\n",
       "      <td>0</td>\n",
       "    </tr>\n",
       "    <tr>\n",
       "      <th>4</th>\n",
       "      <td>1</td>\n",
       "      <td>CHANGI VILLAGE RD</td>\n",
       "      <td>4</td>\n",
       "      <td>1975</td>\n",
       "      <td>Y</td>\n",
       "      <td>Y</td>\n",
       "      <td>N</td>\n",
       "      <td>N</td>\n",
       "      <td>N</td>\n",
       "      <td>N</td>\n",
       "      <td>...</td>\n",
       "      <td>54</td>\n",
       "      <td>0</td>\n",
       "      <td>1</td>\n",
       "      <td>0</td>\n",
       "      <td>0</td>\n",
       "      <td>0</td>\n",
       "      <td>0</td>\n",
       "      <td>0</td>\n",
       "      <td>0</td>\n",
       "      <td>0</td>\n",
       "    </tr>\n",
       "  </tbody>\n",
       "</table>\n",
       "<p>5 rows × 24 columns</p>\n",
       "</div>"
      ],
      "text/plain": [
       "  blk_no             street  max_floor_lvl  year_completed residential  \\\n",
       "0      1           BEACH RD             16            1970           Y   \n",
       "1      1    BEDOK STH AVE 1             14            1975           Y   \n",
       "2      1      CANTONMENT RD              2            2010           N   \n",
       "3      1       CHAI CHEE RD             15            1982           Y   \n",
       "4      1  CHANGI VILLAGE RD              4            1975           Y   \n",
       "\n",
       "  commercial market_hawker miscellaneous multistorey_carpark  \\\n",
       "0          Y             N             N                   N   \n",
       "1          N             N             Y                   N   \n",
       "2          Y             N             N                   N   \n",
       "3          N             N             N                   N   \n",
       "4          Y             N             N                   N   \n",
       "\n",
       "  precinct_pavilion  ... 3room_sold  4room_sold  5room_sold  exec_sold  \\\n",
       "0                 N  ...        138           1           2          0   \n",
       "1                 N  ...        204           0           2          0   \n",
       "2                 N  ...          0           0           0          0   \n",
       "3                 N  ...          0          10          92          0   \n",
       "4                 N  ...         54           0           1          0   \n",
       "\n",
       "   multigen_sold  studio_apartment_sold  1room_rental  2room_rental  \\\n",
       "0              0                      0             0             0   \n",
       "1              0                      0             0             0   \n",
       "2              0                      0             0             0   \n",
       "3              0                      0             0             0   \n",
       "4              0                      0             0             0   \n",
       "\n",
       "   3room_rental  other_room_rental  \n",
       "0             0                  0  \n",
       "1             0                  0  \n",
       "2             0                  0  \n",
       "3             0                  0  \n",
       "4             0                  0  \n",
       "\n",
       "[5 rows x 24 columns]"
      ]
     },
     "execution_count": 25,
     "metadata": {},
     "output_type": "execute_result"
    }
   ],
   "source": [
    "df_info.head()"
   ]
  },
  {
   "cell_type": "code",
   "execution_count": 26,
   "metadata": {},
   "outputs": [],
   "source": [
    "df_info['address'] = df_info['blk_no'] + \" \" + df_info['street']"
   ]
  },
  {
   "cell_type": "code",
   "execution_count": 69,
   "metadata": {},
   "outputs": [
    {
     "name": "stdout",
     "output_type": "stream",
     "text": [
      "<class 'pandas.core.frame.DataFrame'>\n",
      "RangeIndex: 12877 entries, 0 to 12876\n",
      "Data columns (total 25 columns):\n",
      " #   Column                 Non-Null Count  Dtype \n",
      "---  ------                 --------------  ----- \n",
      " 0   blk_no                 12877 non-null  object\n",
      " 1   street                 12877 non-null  object\n",
      " 2   max_floor_lvl          12877 non-null  int64 \n",
      " 3   year_completed         12877 non-null  int64 \n",
      " 4   residential            12877 non-null  object\n",
      " 5   commercial             12877 non-null  object\n",
      " 6   market_hawker          12877 non-null  object\n",
      " 7   miscellaneous          12877 non-null  object\n",
      " 8   multistorey_carpark    12877 non-null  object\n",
      " 9   precinct_pavilion      12877 non-null  object\n",
      " 10  bldg_contract_town     12877 non-null  object\n",
      " 11  total_dwelling_units   12877 non-null  int64 \n",
      " 12  1room_sold             12877 non-null  int64 \n",
      " 13  2room_sold             12877 non-null  int64 \n",
      " 14  3room_sold             12877 non-null  int64 \n",
      " 15  4room_sold             12877 non-null  int64 \n",
      " 16  5room_sold             12877 non-null  int64 \n",
      " 17  exec_sold              12877 non-null  int64 \n",
      " 18  multigen_sold          12877 non-null  int64 \n",
      " 19  studio_apartment_sold  12877 non-null  int64 \n",
      " 20  1room_rental           12877 non-null  int64 \n",
      " 21  2room_rental           12877 non-null  int64 \n",
      " 22  3room_rental           12877 non-null  int64 \n",
      " 23  other_room_rental      12877 non-null  int64 \n",
      " 24  address                12877 non-null  object\n",
      "dtypes: int64(15), object(10)\n",
      "memory usage: 2.5+ MB\n"
     ]
    }
   ],
   "source": [
    "df_info.info()"
   ]
  },
  {
   "cell_type": "code",
   "execution_count": 70,
   "metadata": {},
   "outputs": [],
   "source": [
    "#Recode \n",
    "df_info['residential'] = df_info['residential'].map({'Y': 1, 'N': 0})\n",
    "df_info['commercial'] = df_info['commercial'].map({'Y': 1, 'N': 0})\n",
    "df_info['market_hawker'] = df_info['market_hawker'].map({'Y': 1, 'N': 0})\n",
    "df_info['miscellaneous'] = df_info['miscellaneous'].map({'Y': 1, 'N': 0})\n",
    "df_info['multistorey_carpark'] = df_info['multistorey_carpark'].map({'Y': 1, 'N': 0})\n",
    "df_info['precinct_pavilion'] = df_info['precinct_pavilion'].map({'Y': 1, 'N': 0})\n",
    "df_info['bldg_contract_town'] = df_info['bldg_contract_town'].map({'Y': 1, 'N': 0})"
   ]
  },
  {
   "cell_type": "code",
   "execution_count": 84,
   "metadata": {},
   "outputs": [],
   "source": [
    "df_info = df_info.drop(columns=['blk_no','street'])"
   ]
  },
  {
   "cell_type": "code",
   "execution_count": 110,
   "metadata": {},
   "outputs": [],
   "source": [
    "df_resale = pd.read_csv(\"Resale flat prices based on registration date from Jan-2017 onwards.csv\")"
   ]
  },
  {
   "cell_type": "code",
   "execution_count": 111,
   "metadata": {},
   "outputs": [
    {
     "data": {
      "text/html": [
       "<div>\n",
       "<style scoped>\n",
       "    .dataframe tbody tr th:only-of-type {\n",
       "        vertical-align: middle;\n",
       "    }\n",
       "\n",
       "    .dataframe tbody tr th {\n",
       "        vertical-align: top;\n",
       "    }\n",
       "\n",
       "    .dataframe thead th {\n",
       "        text-align: right;\n",
       "    }\n",
       "</style>\n",
       "<table border=\"1\" class=\"dataframe\">\n",
       "  <thead>\n",
       "    <tr style=\"text-align: right;\">\n",
       "      <th></th>\n",
       "      <th>month</th>\n",
       "      <th>town</th>\n",
       "      <th>flat_type</th>\n",
       "      <th>block</th>\n",
       "      <th>street_name</th>\n",
       "      <th>storey_range</th>\n",
       "      <th>floor_area_sqm</th>\n",
       "      <th>flat_model</th>\n",
       "      <th>lease_commence_date</th>\n",
       "      <th>remaining_lease</th>\n",
       "      <th>resale_price</th>\n",
       "    </tr>\n",
       "  </thead>\n",
       "  <tbody>\n",
       "    <tr>\n",
       "      <th>0</th>\n",
       "      <td>2017-01</td>\n",
       "      <td>ANG MO KIO</td>\n",
       "      <td>2 ROOM</td>\n",
       "      <td>406</td>\n",
       "      <td>ANG MO KIO AVE 10</td>\n",
       "      <td>10 TO 12</td>\n",
       "      <td>44.0</td>\n",
       "      <td>Improved</td>\n",
       "      <td>1979</td>\n",
       "      <td>61 years 04 months</td>\n",
       "      <td>232000.0</td>\n",
       "    </tr>\n",
       "    <tr>\n",
       "      <th>1</th>\n",
       "      <td>2017-01</td>\n",
       "      <td>ANG MO KIO</td>\n",
       "      <td>3 ROOM</td>\n",
       "      <td>108</td>\n",
       "      <td>ANG MO KIO AVE 4</td>\n",
       "      <td>01 TO 03</td>\n",
       "      <td>67.0</td>\n",
       "      <td>New Generation</td>\n",
       "      <td>1978</td>\n",
       "      <td>60 years 07 months</td>\n",
       "      <td>250000.0</td>\n",
       "    </tr>\n",
       "    <tr>\n",
       "      <th>2</th>\n",
       "      <td>2017-01</td>\n",
       "      <td>ANG MO KIO</td>\n",
       "      <td>3 ROOM</td>\n",
       "      <td>602</td>\n",
       "      <td>ANG MO KIO AVE 5</td>\n",
       "      <td>01 TO 03</td>\n",
       "      <td>67.0</td>\n",
       "      <td>New Generation</td>\n",
       "      <td>1980</td>\n",
       "      <td>62 years 05 months</td>\n",
       "      <td>262000.0</td>\n",
       "    </tr>\n",
       "    <tr>\n",
       "      <th>3</th>\n",
       "      <td>2017-01</td>\n",
       "      <td>ANG MO KIO</td>\n",
       "      <td>3 ROOM</td>\n",
       "      <td>465</td>\n",
       "      <td>ANG MO KIO AVE 10</td>\n",
       "      <td>04 TO 06</td>\n",
       "      <td>68.0</td>\n",
       "      <td>New Generation</td>\n",
       "      <td>1980</td>\n",
       "      <td>62 years 01 month</td>\n",
       "      <td>265000.0</td>\n",
       "    </tr>\n",
       "    <tr>\n",
       "      <th>4</th>\n",
       "      <td>2017-01</td>\n",
       "      <td>ANG MO KIO</td>\n",
       "      <td>3 ROOM</td>\n",
       "      <td>601</td>\n",
       "      <td>ANG MO KIO AVE 5</td>\n",
       "      <td>01 TO 03</td>\n",
       "      <td>67.0</td>\n",
       "      <td>New Generation</td>\n",
       "      <td>1980</td>\n",
       "      <td>62 years 05 months</td>\n",
       "      <td>265000.0</td>\n",
       "    </tr>\n",
       "  </tbody>\n",
       "</table>\n",
       "</div>"
      ],
      "text/plain": [
       "     month        town flat_type block        street_name storey_range  \\\n",
       "0  2017-01  ANG MO KIO    2 ROOM   406  ANG MO KIO AVE 10     10 TO 12   \n",
       "1  2017-01  ANG MO KIO    3 ROOM   108   ANG MO KIO AVE 4     01 TO 03   \n",
       "2  2017-01  ANG MO KIO    3 ROOM   602   ANG MO KIO AVE 5     01 TO 03   \n",
       "3  2017-01  ANG MO KIO    3 ROOM   465  ANG MO KIO AVE 10     04 TO 06   \n",
       "4  2017-01  ANG MO KIO    3 ROOM   601   ANG MO KIO AVE 5     01 TO 03   \n",
       "\n",
       "   floor_area_sqm      flat_model  lease_commence_date     remaining_lease  \\\n",
       "0            44.0        Improved                 1979  61 years 04 months   \n",
       "1            67.0  New Generation                 1978  60 years 07 months   \n",
       "2            67.0  New Generation                 1980  62 years 05 months   \n",
       "3            68.0  New Generation                 1980   62 years 01 month   \n",
       "4            67.0  New Generation                 1980  62 years 05 months   \n",
       "\n",
       "   resale_price  \n",
       "0      232000.0  \n",
       "1      250000.0  \n",
       "2      262000.0  \n",
       "3      265000.0  \n",
       "4      265000.0  "
      ]
     },
     "execution_count": 111,
     "metadata": {},
     "output_type": "execute_result"
    }
   ],
   "source": [
    "df_resale.head()"
   ]
  },
  {
   "cell_type": "code",
   "execution_count": 112,
   "metadata": {},
   "outputs": [],
   "source": [
    "df_resale['address'] = df_resale['block'] + \" \" + df_resale['street_name']"
   ]
  },
  {
   "cell_type": "code",
   "execution_count": 113,
   "metadata": {},
   "outputs": [],
   "source": [
    "df_resale['remaining_lease_yr'] = df_resale['remaining_lease'].str[:2]"
   ]
  },
  {
   "cell_type": "code",
   "execution_count": 114,
   "metadata": {},
   "outputs": [],
   "source": [
    "df_resale = df_resale.drop(columns=['block','street_name','town','remaining_lease'])"
   ]
  },
  {
   "cell_type": "code",
   "execution_count": 115,
   "metadata": {},
   "outputs": [],
   "source": [
    "df_resale = df_resale.rename(columns={\"month\": \"resale_month\"})"
   ]
  },
  {
   "cell_type": "code",
   "execution_count": 116,
   "metadata": {},
   "outputs": [],
   "source": [
    "df_resale['min'] = df_resale['storey_range'].str[:2].astype('int64')\n",
    "df_resale['max'] = df_resale['storey_range'].str[-2:].astype('int64')\n",
    "df_resale['avg_level'] = df_resale['max'] - df_resale['min']\n",
    "df_resale = df_resale.drop(columns=['storey_range','min','max'])"
   ]
  },
  {
   "cell_type": "code",
   "execution_count": 127,
   "metadata": {},
   "outputs": [],
   "source": [
    "# Merge Rent Price and Resale Price datasets on 'address' and 'flat_type'\n",
    "merged_df = pd.merge(df, df_resale, on=['address', 'flat_type'], how='inner')"
   ]
  },
  {
   "cell_type": "code",
   "execution_count": 128,
   "metadata": {},
   "outputs": [],
   "source": [
    "# Merge with info dataset on 'Address' and 'flat_type'\n",
    "merged_df = pd.merge(merged_df, df_info, on=['address'], how='inner')"
   ]
  },
  {
   "cell_type": "code",
   "execution_count": 129,
   "metadata": {},
   "outputs": [],
   "source": [
    "merged_df = pd.merge(merged_df, average_price_by_town, on=['town'], how='inner')"
   ]
  },
  {
   "cell_type": "code",
   "execution_count": 130,
   "metadata": {},
   "outputs": [],
   "source": [
    "merged_df = pd.merge(merged_df, average_price_by_town_type, on=['town','flat_type'], how='inner')"
   ]
  },
  {
   "cell_type": "code",
   "execution_count": 131,
   "metadata": {},
   "outputs": [
    {
     "data": {
      "text/html": [
       "<div>\n",
       "<style scoped>\n",
       "    .dataframe tbody tr th:only-of-type {\n",
       "        vertical-align: middle;\n",
       "    }\n",
       "\n",
       "    .dataframe tbody tr th {\n",
       "        vertical-align: top;\n",
       "    }\n",
       "\n",
       "    .dataframe thead th {\n",
       "        text-align: right;\n",
       "    }\n",
       "</style>\n",
       "<table border=\"1\" class=\"dataframe\">\n",
       "  <thead>\n",
       "    <tr style=\"text-align: right;\">\n",
       "      <th></th>\n",
       "      <th>rent_approval_date</th>\n",
       "      <th>town</th>\n",
       "      <th>block</th>\n",
       "      <th>street_name</th>\n",
       "      <th>flat_type</th>\n",
       "      <th>monthly_rent</th>\n",
       "      <th>rent_approval_year</th>\n",
       "      <th>address</th>\n",
       "      <th>resale_month</th>\n",
       "      <th>floor_area_sqm</th>\n",
       "      <th>...</th>\n",
       "      <th>5room_sold</th>\n",
       "      <th>exec_sold</th>\n",
       "      <th>multigen_sold</th>\n",
       "      <th>studio_apartment_sold</th>\n",
       "      <th>1room_rental</th>\n",
       "      <th>2room_rental</th>\n",
       "      <th>3room_rental</th>\n",
       "      <th>other_room_rental</th>\n",
       "      <th>average_rent_bytown</th>\n",
       "      <th>average_rent_bytown_bytype</th>\n",
       "    </tr>\n",
       "  </thead>\n",
       "  <tbody>\n",
       "    <tr>\n",
       "      <th>113595</th>\n",
       "      <td>2024-09</td>\n",
       "      <td>CLEMENTI</td>\n",
       "      <td>201</td>\n",
       "      <td>CLEMENTI AVE 6</td>\n",
       "      <td>EXECUTIVE</td>\n",
       "      <td>3000</td>\n",
       "      <td>2024</td>\n",
       "      <td>201 CLEMENTI AVE 6</td>\n",
       "      <td>2024-01</td>\n",
       "      <td>148.0</td>\n",
       "      <td>...</td>\n",
       "      <td>0</td>\n",
       "      <td>88</td>\n",
       "      <td>0</td>\n",
       "      <td>0</td>\n",
       "      <td>0</td>\n",
       "      <td>0</td>\n",
       "      <td>0</td>\n",
       "      <td>0</td>\n",
       "      <td>2766.58</td>\n",
       "      <td>3552.83</td>\n",
       "    </tr>\n",
       "    <tr>\n",
       "      <th>113596</th>\n",
       "      <td>2024-09</td>\n",
       "      <td>CLEMENTI</td>\n",
       "      <td>201</td>\n",
       "      <td>CLEMENTI AVE 6</td>\n",
       "      <td>EXECUTIVE</td>\n",
       "      <td>3000</td>\n",
       "      <td>2024</td>\n",
       "      <td>201 CLEMENTI AVE 6</td>\n",
       "      <td>2024-03</td>\n",
       "      <td>150.0</td>\n",
       "      <td>...</td>\n",
       "      <td>0</td>\n",
       "      <td>88</td>\n",
       "      <td>0</td>\n",
       "      <td>0</td>\n",
       "      <td>0</td>\n",
       "      <td>0</td>\n",
       "      <td>0</td>\n",
       "      <td>0</td>\n",
       "      <td>2766.58</td>\n",
       "      <td>3552.83</td>\n",
       "    </tr>\n",
       "    <tr>\n",
       "      <th>113597</th>\n",
       "      <td>2024-09</td>\n",
       "      <td>CLEMENTI</td>\n",
       "      <td>201</td>\n",
       "      <td>CLEMENTI AVE 6</td>\n",
       "      <td>EXECUTIVE</td>\n",
       "      <td>3000</td>\n",
       "      <td>2024</td>\n",
       "      <td>201 CLEMENTI AVE 6</td>\n",
       "      <td>2024-06</td>\n",
       "      <td>149.0</td>\n",
       "      <td>...</td>\n",
       "      <td>0</td>\n",
       "      <td>88</td>\n",
       "      <td>0</td>\n",
       "      <td>0</td>\n",
       "      <td>0</td>\n",
       "      <td>0</td>\n",
       "      <td>0</td>\n",
       "      <td>0</td>\n",
       "      <td>2766.58</td>\n",
       "      <td>3552.83</td>\n",
       "    </tr>\n",
       "    <tr>\n",
       "      <th>113598</th>\n",
       "      <td>2024-09</td>\n",
       "      <td>CLEMENTI</td>\n",
       "      <td>201</td>\n",
       "      <td>CLEMENTI AVE 6</td>\n",
       "      <td>EXECUTIVE</td>\n",
       "      <td>3000</td>\n",
       "      <td>2024</td>\n",
       "      <td>201 CLEMENTI AVE 6</td>\n",
       "      <td>2024-08</td>\n",
       "      <td>150.0</td>\n",
       "      <td>...</td>\n",
       "      <td>0</td>\n",
       "      <td>88</td>\n",
       "      <td>0</td>\n",
       "      <td>0</td>\n",
       "      <td>0</td>\n",
       "      <td>0</td>\n",
       "      <td>0</td>\n",
       "      <td>0</td>\n",
       "      <td>2766.58</td>\n",
       "      <td>3552.83</td>\n",
       "    </tr>\n",
       "    <tr>\n",
       "      <th>113599</th>\n",
       "      <td>2021-08</td>\n",
       "      <td>CENTRAL</td>\n",
       "      <td>637</td>\n",
       "      <td>VEERASAMY RD</td>\n",
       "      <td>EXECUTIVE</td>\n",
       "      <td>3100</td>\n",
       "      <td>2021</td>\n",
       "      <td>637 VEERASAMY RD</td>\n",
       "      <td>2023-06</td>\n",
       "      <td>146.0</td>\n",
       "      <td>...</td>\n",
       "      <td>0</td>\n",
       "      <td>1</td>\n",
       "      <td>0</td>\n",
       "      <td>0</td>\n",
       "      <td>0</td>\n",
       "      <td>0</td>\n",
       "      <td>0</td>\n",
       "      <td>0</td>\n",
       "      <td>3117.33</td>\n",
       "      <td>3100.00</td>\n",
       "    </tr>\n",
       "  </tbody>\n",
       "</table>\n",
       "<p>5 rows × 39 columns</p>\n",
       "</div>"
      ],
      "text/plain": [
       "       rent_approval_date      town block     street_name  flat_type  \\\n",
       "113595            2024-09  CLEMENTI   201  CLEMENTI AVE 6  EXECUTIVE   \n",
       "113596            2024-09  CLEMENTI   201  CLEMENTI AVE 6  EXECUTIVE   \n",
       "113597            2024-09  CLEMENTI   201  CLEMENTI AVE 6  EXECUTIVE   \n",
       "113598            2024-09  CLEMENTI   201  CLEMENTI AVE 6  EXECUTIVE   \n",
       "113599            2021-08   CENTRAL   637    VEERASAMY RD  EXECUTIVE   \n",
       "\n",
       "        monthly_rent rent_approval_year             address resale_month  \\\n",
       "113595          3000               2024  201 CLEMENTI AVE 6      2024-01   \n",
       "113596          3000               2024  201 CLEMENTI AVE 6      2024-03   \n",
       "113597          3000               2024  201 CLEMENTI AVE 6      2024-06   \n",
       "113598          3000               2024  201 CLEMENTI AVE 6      2024-08   \n",
       "113599          3100               2021    637 VEERASAMY RD      2023-06   \n",
       "\n",
       "        floor_area_sqm  ... 5room_sold  exec_sold  multigen_sold  \\\n",
       "113595           148.0  ...          0         88              0   \n",
       "113596           150.0  ...          0         88              0   \n",
       "113597           149.0  ...          0         88              0   \n",
       "113598           150.0  ...          0         88              0   \n",
       "113599           146.0  ...          0          1              0   \n",
       "\n",
       "       studio_apartment_sold  1room_rental  2room_rental  3room_rental  \\\n",
       "113595                     0             0             0             0   \n",
       "113596                     0             0             0             0   \n",
       "113597                     0             0             0             0   \n",
       "113598                     0             0             0             0   \n",
       "113599                     0             0             0             0   \n",
       "\n",
       "        other_room_rental  average_rent_bytown  average_rent_bytown_bytype  \n",
       "113595                  0              2766.58                     3552.83  \n",
       "113596                  0              2766.58                     3552.83  \n",
       "113597                  0              2766.58                     3552.83  \n",
       "113598                  0              2766.58                     3552.83  \n",
       "113599                  0              3117.33                     3100.00  \n",
       "\n",
       "[5 rows x 39 columns]"
      ]
     },
     "execution_count": 131,
     "metadata": {},
     "output_type": "execute_result"
    }
   ],
   "source": [
    "merged_df.tail()"
   ]
  },
  {
   "cell_type": "markdown",
   "metadata": {},
   "source": [
    "## Analysis & Insights"
   ]
  },
  {
   "cell_type": "code",
   "execution_count": 132,
   "metadata": {},
   "outputs": [
    {
     "data": {
      "image/png": "[encoded data removed]",
      "text/plain": [
       "<Figure size 432x288 with 1 Axes>"
      ]
     },
     "metadata": {
      "needs_background": "light"
     },
     "output_type": "display_data"
    }
   ],
   "source": [
    "ax = merged_df.plot.scatter(x='monthly_rent',\n",
    "                      y='resale_price',\n",
    "                      c='DarkBlue') "
   ]
  },
  {
   "cell_type": "markdown",
   "metadata": {},
   "source": [
    "## Model 1: Principal Component Analysis (PCA)"
   ]
  },
  {
   "cell_type": "code",
   "execution_count": 133,
   "metadata": {},
   "outputs": [],
   "source": [
    "from sklearn.decomposition import PCA\n",
    "from sklearn.preprocessing import StandardScaler\n",
    "import matplotlib.pyplot as plt"
   ]
  },
  {
   "cell_type": "code",
   "execution_count": 139,
   "metadata": {
    "collapsed": true,
    "jupyter": {
     "outputs_hidden": true
    }
   },
   "outputs": [
    {
     "name": "stdout",
     "output_type": "stream",
     "text": [
      "<class 'pandas.core.frame.DataFrame'>\n",
      "Int64Index: 113600 entries, 0 to 113599\n",
      "Data columns (total 38 columns):\n",
      " #   Column                      Non-Null Count   Dtype  \n",
      "---  ------                      --------------   -----  \n",
      " 0   rent_approval_date          113600 non-null  object \n",
      " 1   town                        113600 non-null  object \n",
      " 2   block                       113600 non-null  object \n",
      " 3   street_name                 113600 non-null  object \n",
      " 4   flat_type                   113600 non-null  object \n",
      " 5   monthly_rent                113600 non-null  int64  \n",
      " 6   rent_approval_year          113600 non-null  int64  \n",
      " 7   address                     113600 non-null  object \n",
      " 8   resale_month                113600 non-null  object \n",
      " 9   floor_area_sqm              113600 non-null  float64\n",
      " 10  flat_model                  113600 non-null  object \n",
      " 11  lease_commence_date         113600 non-null  int64  \n",
      " 12  resale_price                113600 non-null  float64\n",
      " 13  remaining_lease_yr          113600 non-null  int64  \n",
      " 14  avg_level                   113600 non-null  int64  \n",
      " 15  max_floor_lvl               113600 non-null  int64  \n",
      " 16  year_completed              113600 non-null  int64  \n",
      " 17  residential                 113600 non-null  int64  \n",
      " 18  commercial                  113600 non-null  int64  \n",
      " 19  market_hawker               113600 non-null  int64  \n",
      " 20  miscellaneous               113600 non-null  int64  \n",
      " 21  multistorey_carpark         113600 non-null  int64  \n",
      " 22  precinct_pavilion           113600 non-null  int64  \n",
      " 23  total_dwelling_units        113600 non-null  int64  \n",
      " 24  1room_sold                  113600 non-null  int64  \n",
      " 25  2room_sold                  113600 non-null  int64  \n",
      " 26  3room_sold                  113600 non-null  int64  \n",
      " 27  4room_sold                  113600 non-null  int64  \n",
      " 28  5room_sold                  113600 non-null  int64  \n",
      " 29  exec_sold                   113600 non-null  int64  \n",
      " 30  multigen_sold               113600 non-null  int64  \n",
      " 31  studio_apartment_sold       113600 non-null  int64  \n",
      " 32  1room_rental                113600 non-null  int64  \n",
      " 33  2room_rental                113600 non-null  int64  \n",
      " 34  3room_rental                113600 non-null  int64  \n",
      " 35  other_room_rental           113600 non-null  int64  \n",
      " 36  average_rent_bytown         113600 non-null  float64\n",
      " 37  average_rent_bytown_bytype  113600 non-null  float64\n",
      "dtypes: float64(4), int64(26), object(8)\n",
      "memory usage: 33.8+ MB\n"
     ]
    }
   ],
   "source": [
    "merged_df.info()"
   ]
  },
  {
   "cell_type": "code",
   "execution_count": 135,
   "metadata": {},
   "outputs": [],
   "source": [
    "merged_df = merged_df.drop(columns = ['bldg_contract_town'])"
   ]
  },
  {
   "cell_type": "code",
   "execution_count": 138,
   "metadata": {},
   "outputs": [],
   "source": [
    "merged_df['remaining_lease_yr'] = merged_df['remaining_lease_yr'].astype('int64')\n",
    "merged_df['rent_approval_year'] = merged_df['rent_approval_year'].astype('int64')"
   ]
  },
  {
   "cell_type": "code",
   "execution_count": 169,
   "metadata": {},
   "outputs": [],
   "source": [
    "# Step 1: Preprocess the data\n",
    "# Encode categorical variables\n",
    "data_encoded = pd.get_dummies(merged_df, columns=['town', 'flat_type', 'flat_model'], drop_first=True)\n",
    "\n",
    "# Separate features and target\n",
    "features = data_encoded.drop(columns=['monthly_rent', 'rent_approval_date', 'block', 'street_name', 'address', 'resale_month','average_rent_bytown', 'average_rent_bytown_bytype'])\n",
    "target = data_encoded['monthly_rent']"
   ]
  },
  {
   "cell_type": "code",
   "execution_count": 170,
   "metadata": {},
   "outputs": [],
   "source": [
    "# Step 2: Standardize the features\n",
    "scaler = StandardScaler()\n",
    "scaled_features = scaler.fit_transform(features)"
   ]
  },
  {
   "cell_type": "code",
   "execution_count": 171,
   "metadata": {},
   "outputs": [],
   "source": [
    "# Step 3: Apply PCA\n",
    "pca = PCA()\n",
    "principal_components = pca.fit_transform(scaled_features)"
   ]
  },
  {
   "cell_type": "code",
   "execution_count": 172,
   "metadata": {},
   "outputs": [],
   "source": [
    "# Step 4: Analyse variance explained by each component\n",
    "explained_variance = pca.explained_variance_ratio_\n",
    "cumulative_variance = np.cumsum(explained_variance)"
   ]
  },
  {
   "cell_type": "code",
   "execution_count": 173,
   "metadata": {},
   "outputs": [
    {
     "data": {
      "image/png": "[encoded data removed]",
      "text/plain": [
       "<Figure size 576x360 with 1 Axes>"
      ]
     },
     "metadata": {
      "needs_background": "light"
     },
     "output_type": "display_data"
    }
   ],
   "source": [
    "# Plot variance explained\n",
    "plt.figure(figsize=(8, 5))\n",
    "plt.plot(range(1, len(explained_variance) + 1), cumulative_variance, marker='o', linestyle='--')\n",
    "plt.title('Cumulative Explained Variance')\n",
    "plt.xlabel('Number of Principal Components')\n",
    "plt.ylabel('Explained Variance Ratio')\n",
    "plt.grid()\n",
    "plt.show()"
   ]
  },
  {
   "cell_type": "code",
   "execution_count": 174,
   "metadata": {},
   "outputs": [
    {
     "name": "stdout",
     "output_type": "stream",
     "text": [
      "Feature Loadings:\n",
      "                                        PC1           PC2           PC3  \\\n",
      "rent_approval_year            -6.867963e-04  7.523509e-03 -2.551368e-03   \n",
      "floor_area_sqm                -3.141167e-01  8.999992e-02  1.027547e-01   \n",
      "lease_commence_date            3.768263e-01 -1.097679e-01  6.236109e-02   \n",
      "resale_price                  -1.965260e-01  7.329097e-02 -1.475180e-01   \n",
      "remaining_lease_yr             3.682829e-01 -1.167504e-01  7.301954e-02   \n",
      "avg_level                     -0.000000e+00  0.000000e+00 -1.387779e-16   \n",
      "max_floor_lvl                  2.236350e-01 -3.825249e-02 -3.354724e-01   \n",
      "year_completed                 3.753428e-01 -1.176892e-01  3.923872e-02   \n",
      "residential                   -0.000000e+00  0.000000e+00  0.000000e+00   \n",
      "commercial                    -5.512584e-02  4.058610e-02  5.408711e-02   \n",
      "market_hawker                 -0.000000e+00  0.000000e+00  0.000000e+00   \n",
      "miscellaneous                  2.775674e-02 -1.090290e-02 -2.471835e-01   \n",
      "multistorey_carpark            6.179964e-03  1.911925e-02  2.566933e-02   \n",
      "precinct_pavilion             -1.292470e-26 -4.235165e-22 -1.355253e-20   \n",
      "total_dwelling_units           2.050096e-01  2.438636e-01 -3.976737e-01   \n",
      "1room_sold                    -0.000000e+00  0.000000e+00  0.000000e+00   \n",
      "2room_sold                    -0.000000e+00  0.000000e+00  0.000000e+00   \n",
      "3room_sold                    -2.017976e-02  3.333057e-02  6.240284e-02   \n",
      "4room_sold                     1.728885e-01  3.846513e-01  9.206398e-02   \n",
      "5room_sold                     2.268153e-01  3.889533e-01  9.009189e-02   \n",
      "exec_sold                      2.857012e-03 -1.680040e-01 -5.564298e-01   \n",
      "multigen_sold                 -0.000000e+00  0.000000e+00  0.000000e+00   \n",
      "studio_apartment_sold         -0.000000e+00  0.000000e+00  0.000000e+00   \n",
      "1room_rental                  -0.000000e+00  0.000000e+00  0.000000e+00   \n",
      "2room_rental                  -0.000000e+00  0.000000e+00  0.000000e+00   \n",
      "3room_rental                  -4.049901e-03  1.583770e-02  1.755324e-02   \n",
      "other_room_rental             -0.000000e+00  0.000000e+00  0.000000e+00   \n",
      "town_BEDOK                    -5.539309e-02  6.705038e-03  1.889062e-02   \n",
      "town_BISHAN                   -5.283335e-02  6.134006e-02 -4.959982e-02   \n",
      "town_BUKIT BATOK              -5.663968e-02  1.387807e-02 -6.138484e-02   \n",
      "town_BUKIT PANJANG             5.973103e-02  6.689055e-02 -1.237475e-01   \n",
      "town_BUKIT TIMAH              -3.561839e-02  3.119313e-02 -2.832593e-03   \n",
      "town_CENTRAL                  -1.460045e-03  6.812448e-03  7.302599e-03   \n",
      "town_CHOA CHU KANG             2.508066e-02 -4.796996e-03  6.841445e-02   \n",
      "town_CLEMENTI                 -5.379078e-02  5.130276e-02 -5.815552e-02   \n",
      "town_GEYLANG                  -5.523011e-02  4.801208e-02 -1.456511e-01   \n",
      "town_HOUGANG                  -7.021694e-02  1.545900e-02 -5.729878e-02   \n",
      "town_JURONG EAST               4.437405e-03 -5.366859e-02 -2.131907e-01   \n",
      "town_JURONG WEST               4.492126e-02 -1.056687e-01 -2.452671e-02   \n",
      "town_KALLANG/WHAMPOA          -4.024724e-02  2.937073e-02 -2.341934e-02   \n",
      "town_PASIR RIS                -4.951790e-02 -1.154301e-01  2.958318e-01   \n",
      "town_PUNGGOL                   1.344310e-01  2.455046e-01  1.620167e-02   \n",
      "town_QUEENSTOWN               -3.066984e-03 -2.871989e-03 -5.391473e-02   \n",
      "town_SEMBAWANG                 1.278621e-01  4.732989e-02  6.656176e-02   \n",
      "town_SENGKANG                  1.652713e-01 -1.125736e-01 -1.037104e-01   \n",
      "town_SERANGOON                -5.037256e-02  1.010401e-02 -4.319175e-02   \n",
      "town_TAMPINES                 -1.087363e-01  4.678889e-02  1.447529e-02   \n",
      "town_TOA PAYOH                -4.001917e-02  3.194004e-02  8.532106e-03   \n",
      "town_WOODLANDS                -4.922590e-03  5.897581e-03  1.839891e-01   \n",
      "town_YISHUN                   -8.783897e-02  2.480842e-02  2.813296e-02   \n",
      "flat_model_Apartment           1.275532e-01 -4.611134e-01  1.000091e-01   \n",
      "flat_model_Maisonette         -2.796945e-01  2.223115e-01 -1.658515e-01   \n",
      "flat_model_Premium Apartment   2.346775e-01  4.128636e-01  9.503817e-02   \n",
      "flat_model_Premium Maisonette  5.779987e-04  2.151770e-02  2.845912e-02   \n",
      "\n",
      "                                        PC4           PC5           PC6  \\\n",
      "rent_approval_year            -4.749370e-02  1.411090e-03 -3.183816e-02   \n",
      "floor_area_sqm                 1.974751e-01  1.117334e-01  1.028734e-01   \n",
      "lease_commence_date            1.115689e-02  1.392332e-01 -6.710184e-02   \n",
      "resale_price                   3.808036e-01  1.707513e-01 -1.956047e-01   \n",
      "remaining_lease_yr            -3.395247e-02  1.083075e-01 -4.251305e-02   \n",
      "avg_level                      2.220446e-16 -1.370432e-16  7.285839e-17   \n",
      "max_floor_lvl                  3.127808e-01  3.494680e-02 -3.683650e-02   \n",
      "year_completed                 3.189118e-03  1.002933e-01 -1.044709e-01   \n",
      "residential                   -5.551115e-17 -1.387779e-17  1.387779e-16   \n",
      "commercial                    -1.188794e-01  5.169175e-01 -1.674669e-01   \n",
      "market_hawker                 -0.000000e+00  5.204170e-17  5.551115e-17   \n",
      "miscellaneous                 -3.727526e-01  1.331119e-01  6.673772e-02   \n",
      "multistorey_carpark            1.113785e-02  1.351970e-02 -2.348268e-02   \n",
      "precinct_pavilion              1.734723e-18  6.938894e-18 -0.000000e+00   \n",
      "total_dwelling_units           3.681732e-02 -1.164069e-02  1.742720e-01   \n",
      "1room_sold                     1.084202e-19  8.326673e-17 -1.387779e-17   \n",
      "2room_sold                    -0.000000e+00  1.387779e-17 -0.000000e+00   \n",
      "3room_sold                     1.204381e-01  3.267491e-01  5.466308e-01   \n",
      "4room_sold                     8.309583e-02 -1.689369e-02  1.099562e-01   \n",
      "5room_sold                     7.460772e-02 -2.619271e-02  1.289838e-02   \n",
      "exec_sold                     -6.098326e-02 -2.505902e-02  7.039224e-02   \n",
      "multigen_sold                 -0.000000e+00 -0.000000e+00 -0.000000e+00   \n",
      "studio_apartment_sold          2.117582e-22  1.387779e-17 -0.000000e+00   \n",
      "1room_rental                   1.058791e-22 -0.000000e+00  1.734723e-18   \n",
      "2room_rental                  -0.000000e+00 -0.000000e+00 -0.000000e+00   \n",
      "3room_rental                   6.120220e-02  2.070875e-01  4.440540e-01   \n",
      "other_room_rental             -3.308722e-24 -0.000000e+00 -0.000000e+00   \n",
      "town_BEDOK                     1.588247e-01 -3.608554e-02 -6.217875e-02   \n",
      "town_BISHAN                   -3.649341e-02  4.368810e-01 -2.412636e-01   \n",
      "town_BUKIT BATOK               1.209926e-01 -1.842164e-01  1.259517e-01   \n",
      "town_BUKIT PANJANG             1.814409e-01 -1.008021e-02 -6.774288e-03   \n",
      "town_BUKIT TIMAH               7.492118e-02  2.895035e-02 -1.340679e-01   \n",
      "town_CENTRAL                   2.238940e-02  8.383593e-02  1.265518e-01   \n",
      "town_CHOA CHU KANG            -7.084921e-03  1.499109e-01 -7.885181e-02   \n",
      "town_CLEMENTI                  7.396090e-02 -8.603365e-02 -1.394806e-02   \n",
      "town_GEYLANG                   2.562772e-02 -7.713644e-02  6.406660e-02   \n",
      "town_HOUGANG                  -6.010016e-02  1.996456e-01 -1.653653e-01   \n",
      "town_JURONG EAST               3.195154e-01  5.539311e-02  3.504528e-02   \n",
      "town_JURONG WEST              -3.211719e-01  1.062218e-02  7.365293e-02   \n",
      "town_KALLANG/WHAMPOA           3.290866e-02 -4.203318e-02  1.357827e-02   \n",
      "town_PASIR RIS                 2.178043e-01 -9.454943e-02 -1.530653e-01   \n",
      "town_PUNGGOL                   1.876037e-02 -8.445233e-02 -9.922074e-02   \n",
      "town_QUEENSTOWN                9.230745e-02  6.173392e-02 -3.446448e-02   \n",
      "town_SEMBAWANG                -2.006931e-01 -3.351613e-02  1.062514e-01   \n",
      "town_SENGKANG                 -7.057303e-02  1.211206e-02 -8.621142e-02   \n",
      "town_SERANGOON                 9.692300e-02 -5.624510e-02 -5.705926e-02   \n",
      "town_TAMPINES                 -1.005595e-01 -1.615825e-01  2.489923e-02   \n",
      "town_TOA PAYOH                -4.061845e-02 -2.917374e-02 -4.463189e-02   \n",
      "town_WOODLANDS                 3.272222e-02  2.339474e-01  2.663557e-01   \n",
      "town_YISHUN                   -1.570476e-01 -2.133183e-01  2.009397e-01   \n",
      "flat_model_Apartment           1.885015e-01 -4.694389e-02  1.170879e-01   \n",
      "flat_model_Maisonette         -2.118159e-01  8.113163e-02 -9.814536e-02   \n",
      "flat_model_Premium Apartment   1.818812e-02 -6.672630e-02 -6.732686e-02   \n",
      "flat_model_Premium Maisonette  9.189993e-03 -4.172926e-03  4.180941e-03   \n",
      "\n",
      "                                        PC7           PC8           PC9  \\\n",
      "rent_approval_year             7.083447e-02 -2.342111e-02  2.142574e-02   \n",
      "floor_area_sqm                 4.180118e-02 -1.190510e-01 -1.362541e-01   \n",
      "lease_commence_date           -1.011406e-01 -8.955969e-02  1.120901e-02   \n",
      "resale_price                  -2.312073e-01  1.255722e-01  2.068489e-02   \n",
      "remaining_lease_yr            -6.720197e-02 -1.096953e-01  5.662423e-03   \n",
      "avg_level                      9.020562e-17  1.387779e-17  4.857226e-17   \n",
      "max_floor_lvl                  2.549687e-01  2.583525e-02  5.405344e-02   \n",
      "year_completed                -8.691528e-02 -6.101193e-02  3.151914e-02   \n",
      "residential                   -5.551115e-17 -2.081668e-17 -6.245005e-17   \n",
      "commercial                     2.403355e-01  7.143576e-02 -6.694664e-02   \n",
      "market_hawker                  8.326673e-17  4.857226e-17 -4.163336e-17   \n",
      "miscellaneous                 -7.977746e-02  2.102074e-01 -1.173992e-01   \n",
      "multistorey_carpark            1.004940e-01 -1.457401e-02 -3.403449e-02   \n",
      "precinct_pavilion             -5.551115e-17 -0.000000e+00  2.064321e-16   \n",
      "total_dwelling_units          -1.497937e-02 -1.796759e-02 -1.098208e-01   \n",
      "1room_sold                    -2.775558e-17 -2.220446e-16 -1.942890e-16   \n",
      "2room_sold                    -0.000000e+00 -1.110223e-16  2.775558e-17   \n",
      "3room_sold                    -5.588775e-02  1.302672e-01  1.846455e-01   \n",
      "4room_sold                     2.925321e-02  3.879558e-02 -1.272242e-01   \n",
      "5room_sold                     5.522950e-02  3.511159e-02 -4.820340e-02   \n",
      "exec_sold                     -5.993951e-02 -7.654059e-02 -4.996785e-02   \n",
      "multigen_sold                 -0.000000e+00 -0.000000e+00 -1.526557e-16   \n",
      "studio_apartment_sold         -0.000000e+00 -0.000000e+00 -1.062518e-17   \n",
      "1room_rental                   1.734723e-18 -0.000000e+00  1.110223e-16   \n",
      "2room_rental                  -0.000000e+00 -0.000000e+00  8.326673e-17   \n",
      "3room_rental                  -2.986202e-02  2.291841e-01  3.250180e-01   \n",
      "other_room_rental             -0.000000e+00  5.551115e-17  5.551115e-17   \n",
      "town_BEDOK                     2.617729e-02  1.157384e-01  2.164294e-01   \n",
      "town_BISHAN                   -1.796765e-02  2.621687e-01 -9.830148e-02   \n",
      "town_BUKIT BATOK               2.492131e-01  3.175261e-03  5.682975e-03   \n",
      "town_BUKIT PANJANG             1.585744e-01  1.030514e-02 -6.882562e-03   \n",
      "town_BUKIT TIMAH              -1.432364e-01  1.902700e-02  1.550255e-01   \n",
      "town_CENTRAL                  -4.218697e-03  8.289273e-02  8.761285e-02   \n",
      "town_CHOA CHU KANG             3.922518e-01 -3.843141e-02 -1.304719e-01   \n",
      "town_CLEMENTI                  2.124442e-03 -6.523279e-02  9.696952e-02   \n",
      "town_GEYLANG                   3.833118e-02  1.014188e-01 -5.287186e-02   \n",
      "town_HOUGANG                   2.502694e-02 -6.195569e-02  5.014812e-03   \n",
      "town_JURONG EAST               7.594780e-02 -1.922979e-01 -2.227574e-01   \n",
      "town_JURONG WEST               3.288933e-01 -2.331364e-01  4.257971e-01   \n",
      "town_KALLANG/WHAMPOA          -6.763617e-02  1.310896e-01 -3.530681e-02   \n",
      "town_PASIR RIS                 6.265202e-02  2.183062e-01  1.779284e-02   \n",
      "town_PUNGGOL                  -4.765976e-02 -3.901722e-02  2.477174e-01   \n",
      "town_QUEENSTOWN               -5.783537e-02  7.029944e-02 -3.895968e-02   \n",
      "town_SEMBAWANG                -1.928166e-02  1.599365e-01 -4.758676e-01   \n",
      "town_SENGKANG                 -3.502532e-01  2.540280e-01  1.552652e-01   \n",
      "town_SERANGOON                -2.178663e-01 -2.584025e-01  7.398551e-02   \n",
      "town_TAMPINES                 -3.017062e-01  1.080955e-01 -5.709685e-02   \n",
      "town_TOA PAYOH                -9.566790e-02  2.533528e-02  6.299335e-02   \n",
      "town_WOODLANDS                -2.853164e-01 -5.278505e-01 -2.074271e-01   \n",
      "town_YISHUN                    1.332441e-01  2.169863e-01 -1.640829e-01   \n",
      "flat_model_Apartment           3.711241e-02  1.316717e-01 -1.342868e-01   \n",
      "flat_model_Maisonette         -3.529403e-02 -1.729641e-01  8.370198e-02   \n",
      "flat_model_Premium Apartment  -1.707872e-03  4.393353e-02  8.025785e-02   \n",
      "flat_model_Premium Maisonette -3.485677e-02  3.280541e-02 -8.158874e-02   \n",
      "\n",
      "                                       PC10  ...          PC45          PC46  \\\n",
      "rent_approval_year             4.793386e-02  ... -0.000000e+00 -0.000000e+00   \n",
      "floor_area_sqm                -3.376686e-02  ...  2.220446e-16 -2.775558e-17   \n",
      "lease_commence_date           -1.702243e-02  ...  2.916446e-16  4.330040e-16   \n",
      "resale_price                  -1.247492e-01  ... -6.878313e-18 -5.890402e-17   \n",
      "remaining_lease_yr             1.738287e-03  ...  3.225250e-16 -1.107370e-16   \n",
      "avg_level                     -8.326673e-17  ... -3.299116e-01  2.638778e-01   \n",
      "max_floor_lvl                 -2.845848e-02  ...  6.522031e-17 -4.186580e-17   \n",
      "year_completed                -6.267048e-03  ... -1.804112e-16 -2.012279e-16   \n",
      "residential                   -4.163336e-17  ...  5.243936e-01  3.018733e-01   \n",
      "commercial                     1.109651e-01  ... -8.326673e-17  9.714451e-17   \n",
      "market_hawker                 -9.714451e-17  ...  4.493193e-01  3.630458e-02   \n",
      "miscellaneous                 -2.020957e-01  ... -6.938894e-17 -0.000000e+00   \n",
      "multistorey_carpark            1.563110e-01  ... -4.163336e-17 -5.551115e-17   \n",
      "precinct_pavilion             -6.418477e-17  ... -9.273039e-02  1.682654e-01   \n",
      "total_dwelling_units           1.503003e-02  ... -1.866521e-02  6.467811e-04   \n",
      "1room_sold                     1.110223e-16  ... -3.475363e-02 -3.836353e-02   \n",
      "2room_sold                    -5.551115e-17  ... -2.253282e-02  6.260998e-01   \n",
      "3room_sold                     4.259105e-02  ...  1.877033e-03 -6.504237e-05   \n",
      "4room_sold                    -8.727597e-02  ...  8.358103e-03 -2.896224e-04   \n",
      "5room_sold                    -6.075836e-03  ...  1.045753e-02 -3.623709e-04   \n",
      "exec_sold                      5.974364e-02  ...  1.662656e-02 -5.761383e-04   \n",
      "multigen_sold                  1.665335e-16  ...  2.120749e-01 -2.657396e-01   \n",
      "studio_apartment_sold          1.387779e-17  ...  1.445232e-01  3.296826e-01   \n",
      "1room_rental                   5.551115e-17  ... -5.119099e-01 -1.125018e-01   \n",
      "2room_rental                  -5.551115e-17  ...  5.712721e-02 -3.390644e-01   \n",
      "3room_rental                   4.684278e-02  ...  5.603808e-06 -1.941814e-07   \n",
      "other_room_rental             -5.551115e-17  ...  2.682943e-01 -3.304642e-01   \n",
      "town_BEDOK                    -6.478456e-02  ...  2.567391e-16 -5.746272e-17   \n",
      "town_BISHAN                   -1.695047e-01  ...  2.498002e-16 -5.551115e-17   \n",
      "town_BUKIT BATOK               1.724989e-01  ...  1.595946e-16  9.627715e-17   \n",
      "town_BUKIT PANJANG            -2.103198e-01  ...  1.942890e-16 -1.561251e-17   \n",
      "town_BUKIT TIMAH              -1.056016e-01  ...  2.775558e-17 -4.163336e-17   \n",
      "town_CENTRAL                   2.155401e-02  ...  6.505213e-18  6.331741e-17   \n",
      "town_CHOA CHU KANG             3.656276e-01  ...  3.382711e-16  2.862294e-17   \n",
      "town_CLEMENTI                  7.891464e-02  ...  5.551115e-17  4.510281e-17   \n",
      "town_GEYLANG                  -1.191594e-01  ...  4.423545e-16 -0.000000e+00   \n",
      "town_HOUGANG                   2.252374e-01  ...  2.914335e-16 -6.938894e-18   \n",
      "town_JURONG EAST              -2.909441e-02  ...  5.551115e-17 -5.551115e-17   \n",
      "town_JURONG WEST              -4.317271e-01  ...  3.660267e-16 -1.526557e-16   \n",
      "town_KALLANG/WHAMPOA          -1.252341e-01  ... -6.938894e-18  2.775558e-17   \n",
      "town_PASIR RIS                -1.672253e-01  ...  2.081668e-16  8.326673e-17   \n",
      "town_PUNGGOL                   3.691719e-02  ...  1.942890e-16 -0.000000e+00   \n",
      "town_QUEENSTOWN               -1.640060e-01  ...  3.469447e-17  1.040834e-17   \n",
      "town_SEMBAWANG                -2.420025e-01  ...  2.775558e-16 -6.938894e-17   \n",
      "town_SENGKANG                  4.265014e-01  ...  3.747003e-16  1.665335e-16   \n",
      "town_SERANGOON                 2.129223e-02  ...  1.942890e-16 -8.326673e-17   \n",
      "town_TAMPINES                 -2.114073e-02  ...  3.469447e-16 -6.938894e-17   \n",
      "town_TOA PAYOH                -7.730564e-02  ...  8.326673e-17 -0.000000e+00   \n",
      "town_WOODLANDS                -7.979514e-03  ...  4.024558e-16 -1.387779e-17   \n",
      "town_YISHUN                    2.235760e-01  ...  1.873501e-16 -5.551115e-17   \n",
      "flat_model_Apartment          -5.749944e-02  ...  2.636780e-16  1.214306e-16   \n",
      "flat_model_Maisonette          3.613723e-02  ...  2.498002e-16  2.844947e-16   \n",
      "flat_model_Premium Apartment   3.716759e-02  ...  2.914335e-16  8.326673e-17   \n",
      "flat_model_Premium Maisonette -3.003301e-02  ...  2.081668e-17 -1.127570e-16   \n",
      "\n",
      "                                       PC47          PC48          PC49  \\\n",
      "rent_approval_year            -0.000000e+00  0.000000e+00 -0.000000e+00   \n",
      "floor_area_sqm                 2.081668e-17  0.000000e+00 -2.775558e-17   \n",
      "lease_commence_date           -9.143267e-17  4.250073e-17  1.606524e-16   \n",
      "resale_price                  -3.628645e-17  1.026134e-16 -2.353726e-17   \n",
      "remaining_lease_yr             2.626599e-16  1.474399e-16 -2.722698e-16   \n",
      "avg_level                      2.573086e-01  1.321571e-01  2.271068e-01   \n",
      "max_floor_lvl                  5.709600e-17 -1.173523e-16 -2.248902e-16   \n",
      "year_completed                 6.938894e-18 -2.272488e-16 -4.336809e-17   \n",
      "residential                    3.208105e-01 -2.094835e-01 -5.403644e-01   \n",
      "commercial                     1.249001e-16 -2.775558e-17 -5.551115e-17   \n",
      "market_hawker                 -8.800753e-02  2.708250e-01 -2.144659e-02   \n",
      "miscellaneous                  2.775558e-17 -3.122502e-17 -6.245005e-17   \n",
      "multistorey_carpark           -1.821460e-16  3.469447e-17  2.428613e-17   \n",
      "precinct_pavilion              4.817742e-01  2.338035e-01 -2.699798e-01   \n",
      "total_dwelling_units           1.206858e-02 -2.943272e-03 -1.517656e-03   \n",
      "1room_sold                     3.028519e-01 -1.154328e-01  1.538793e-01   \n",
      "2room_sold                    -5.779336e-01  8.128327e-03  5.273665e-03   \n",
      "3room_sold                    -1.213654e-03  2.959848e-04  1.526203e-04   \n",
      "4room_sold                    -5.404192e-03  1.317969e-03  6.795917e-04   \n",
      "5room_sold                    -6.761639e-03  1.649022e-03  8.502944e-04   \n",
      "exec_sold                     -1.075042e-02  2.621802e-03  1.351894e-03   \n",
      "multigen_sold                 -1.281718e-02  5.718625e-01  9.408569e-02   \n",
      "studio_apartment_sold         -2.726890e-02 -2.569590e-01  1.854062e-01   \n",
      "1room_rental                  -4.746262e-02 -2.360065e-01 -4.956425e-01   \n",
      "2room_rental                  -4.019308e-01  4.347653e-02 -4.429431e-01   \n",
      "3room_rental                  -3.623316e-06  8.836507e-07  4.556418e-07   \n",
      "other_room_rental              1.574906e-02 -5.887156e-01  2.725438e-01   \n",
      "town_BEDOK                     4.857226e-17  1.283695e-16 -6.938894e-18   \n",
      "town_BISHAN                   -1.387779e-17  2.081668e-17 -1.526557e-16   \n",
      "town_BUKIT BATOK              -1.595946e-16 -8.500145e-17 -2.879641e-16   \n",
      "town_BUKIT PANJANG            -1.925543e-16 -6.591949e-17  6.938894e-18   \n",
      "town_BUKIT TIMAH              -9.194034e-17 -7.979728e-17  1.873501e-16   \n",
      "town_CENTRAL                   5.984796e-17 -2.385245e-17 -1.691355e-17   \n",
      "town_CHOA CHU KANG            -2.463307e-16  2.602085e-18 -0.000000e+00   \n",
      "town_CLEMENTI                 -6.591949e-17 -3.469447e-18 -1.526557e-16   \n",
      "town_GEYLANG                   1.249001e-16 -4.141652e-17  1.318390e-16   \n",
      "town_HOUGANG                  -1.040834e-16 -9.020562e-17 -2.775558e-17   \n",
      "town_JURONG EAST              -1.942890e-16 -1.387779e-17 -2.081668e-17   \n",
      "town_JURONG WEST              -3.469447e-16  7.285839e-17  4.336809e-17   \n",
      "town_KALLANG/WHAMPOA          -1.110223e-16 -1.023487e-16 -1.214306e-16   \n",
      "town_PASIR RIS                -1.804112e-16 -2.656295e-17 -1.387779e-17   \n",
      "town_PUNGGOL                  -5.551115e-17  5.551115e-17  2.775558e-17   \n",
      "town_QUEENSTOWN               -3.816392e-17 -6.938894e-18 -1.075529e-16   \n",
      "town_SEMBAWANG                -1.110223e-16  5.551115e-17 -5.551115e-17   \n",
      "town_SENGKANG                 -2.220446e-16 -6.245005e-17 -1.526557e-16   \n",
      "town_SERANGOON                -2.775558e-17  9.367507e-17  6.938894e-18   \n",
      "town_TAMPINES                 -1.387779e-17 -1.387779e-17 -9.714451e-17   \n",
      "town_TOA PAYOH                -1.769418e-16 -7.979728e-17 -8.326673e-17   \n",
      "town_WOODLANDS                -2.775558e-16 -9.714451e-17 -5.551115e-17   \n",
      "town_YISHUN                   -1.942890e-16 -2.428613e-17 -4.163336e-17   \n",
      "flat_model_Apartment          -1.589007e-15 -3.406997e-15 -8.840151e-15   \n",
      "flat_model_Maisonette         -1.616762e-15 -3.287301e-15 -8.479328e-15   \n",
      "flat_model_Premium Apartment  -9.298118e-16 -2.081668e-15 -5.453971e-15   \n",
      "flat_model_Premium Maisonette  3.469447e-18 -3.122502e-17 -1.769418e-16   \n",
      "\n",
      "                                       PC50          PC51          PC52  \\\n",
      "rent_approval_year            -0.000000e+00  0.000000e+00  0.000000e+00   \n",
      "floor_area_sqm                -8.326673e-17  5.030698e-17  1.387779e-17   \n",
      "lease_commence_date           -3.524448e-16  1.564846e-16  7.063709e-16   \n",
      "resale_price                   1.325106e-17 -7.386670e-18 -1.266102e-16   \n",
      "remaining_lease_yr             1.099365e-16  9.042084e-17 -4.784862e-16   \n",
      "avg_level                      7.752302e-01 -5.305131e-02  2.057229e-01   \n",
      "max_floor_lvl                 -1.008472e-16  2.716392e-17  7.659954e-18   \n",
      "year_completed                 4.093947e-16 -3.729655e-17 -2.151057e-16   \n",
      "residential                    2.539621e-01 -1.060485e-01  5.401106e-02   \n",
      "commercial                     3.469447e-17  2.012279e-16  5.377643e-17   \n",
      "market_hawker                  1.592384e-01  8.042265e-02 -3.284975e-01   \n",
      "miscellaneous                  1.110223e-16 -2.775558e-17 -6.938894e-17   \n",
      "multistorey_carpark           -6.938894e-18  5.854692e-17 -1.025655e-16   \n",
      "precinct_pavilion             -3.241869e-01  3.024750e-01 -3.651526e-02   \n",
      "total_dwelling_units           1.148714e-03  5.440339e-04  6.754758e-03   \n",
      "1room_sold                     1.402474e-01  4.592409e-01 -4.357358e-01   \n",
      "2room_sold                     5.388497e-02  3.242374e-01 -2.630897e-01   \n",
      "3room_sold                    -1.155183e-04 -5.470979e-05 -6.792800e-04   \n",
      "4room_sold                    -5.143830e-04 -2.436132e-04 -3.024716e-03   \n",
      "5room_sold                    -6.435879e-04 -3.048049e-04 -3.784476e-03   \n",
      "exec_sold                     -1.023249e-03 -4.846134e-04 -6.016990e-03   \n",
      "multigen_sold                  1.668741e-01 -3.160161e-01 -3.882243e-01   \n",
      "studio_apartment_sold         -1.174458e-01 -5.692010e-01 -4.543988e-02   \n",
      "1room_rental                   1.162651e-01 -2.859726e-01 -5.454471e-01   \n",
      "2room_rental                   3.001890e-01  1.952415e-01  3.265666e-01   \n",
      "3room_rental                  -3.448753e-07 -1.633339e-07 -2.027963e-06   \n",
      "other_room_rental              1.903154e-01  1.679048e-01 -1.714298e-01   \n",
      "town_BEDOK                    -6.245005e-17  2.914335e-16 -1.786765e-16   \n",
      "town_BISHAN                    2.775558e-17  2.081668e-17 -1.075529e-16   \n",
      "town_BUKIT BATOK              -1.908196e-17 -1.194791e-16 -6.158268e-17   \n",
      "town_BUKIT PANJANG            -1.847481e-16  5.984796e-17  4.662069e-17   \n",
      "town_BUKIT TIMAH               1.249001e-16 -2.216109e-16  9.367507e-17   \n",
      "town_CENTRAL                   2.428613e-17  6.938894e-17 -7.112366e-17   \n",
      "town_CHOA CHU KANG            -1.838807e-16 -1.426268e-16  6.591949e-17   \n",
      "town_CLEMENTI                 -4.163336e-17  1.175275e-16 -4.857226e-17   \n",
      "town_GEYLANG                  -2.775558e-17  2.428613e-17 -4.163336e-17   \n",
      "town_HOUGANG                  -8.326673e-17 -1.023487e-16 -5.551115e-17   \n",
      "town_JURONG EAST              -1.665335e-16 -3.469447e-18 -4.163336e-17   \n",
      "town_JURONG WEST              -1.665335e-16 -5.898060e-17 -1.734723e-16   \n",
      "town_KALLANG/WHAMPOA           8.326673e-17 -9.714451e-17  1.040834e-16   \n",
      "town_PASIR RIS                -2.220446e-16 -1.214306e-16 -6.938894e-18   \n",
      "town_PUNGGOL                  -1.110223e-16  3.274291e-17 -9.714451e-17   \n",
      "town_QUEENSTOWN                2.081668e-17 -8.239937e-17  3.469447e-17   \n",
      "town_SEMBAWANG                -2.359224e-16 -1.318390e-16 -3.989864e-17   \n",
      "town_SENGKANG                 -1.110223e-16  4.857226e-17 -1.526557e-16   \n",
      "town_SERANGOON                -8.326673e-17 -6.591949e-17 -2.567391e-16   \n",
      "town_TAMPINES                 -1.387779e-16 -2.428613e-17  4.163336e-17   \n",
      "town_TOA PAYOH                -1.543904e-16 -1.821460e-16 -1.734723e-17   \n",
      "town_WOODLANDS                -1.526557e-16  7.979728e-17  3.469447e-18   \n",
      "town_YISHUN                    8.326673e-17  6.245005e-17 -9.714451e-17   \n",
      "flat_model_Apartment          -2.053913e-15 -4.740999e-15 -5.811324e-16   \n",
      "flat_model_Maisonette         -1.956768e-15 -4.350686e-15 -4.996004e-16   \n",
      "flat_model_Premium Apartment  -1.221245e-15 -2.799844e-15 -3.538836e-16   \n",
      "flat_model_Premium Maisonette -2.125036e-17 -6.852158e-17  2.103352e-17   \n",
      "\n",
      "                                       PC53          PC54  \n",
      "rent_approval_year            -0.000000e+00  0.000000e+00  \n",
      "floor_area_sqm                 6.245005e-17  6.938894e-18  \n",
      "lease_commence_date           -6.221101e-16  3.824589e-16  \n",
      "resale_price                   1.636676e-16 -3.764907e-17  \n",
      "remaining_lease_yr             3.490354e-16 -3.764969e-16  \n",
      "avg_level                     -7.281605e-02 -3.524954e-02  \n",
      "max_floor_lvl                  2.721824e-17  5.696478e-17  \n",
      "year_completed                 3.096481e-16  1.301043e-17  \n",
      "residential                    1.330077e-01  2.542641e-01  \n",
      "commercial                    -2.775558e-17  4.163336e-17  \n",
      "market_hawker                  2.658974e-01 -5.628350e-01  \n",
      "miscellaneous                 -1.144917e-16  1.092876e-16  \n",
      "multistorey_carpark            7.806256e-18  2.012279e-16  \n",
      "precinct_pavilion             -5.133560e-01  2.170028e-03  \n",
      "total_dwelling_units          -1.535348e-02  9.526426e-03  \n",
      "1room_sold                    -8.443291e-02 -2.813903e-01  \n",
      "2room_sold                    -1.456330e-01  2.733715e-01  \n",
      "3room_sold                     1.543995e-03 -9.580077e-04  \n",
      "4room_sold                     6.875139e-03 -4.265842e-03  \n",
      "5room_sold                     8.602065e-03 -5.337353e-03  \n",
      "exec_sold                      1.367654e-02 -8.485929e-03  \n",
      "multigen_sold                 -2.999737e-01  3.961266e-01  \n",
      "studio_apartment_sold         -5.026004e-01 -4.042582e-01  \n",
      "1room_rental                   6.936121e-02 -4.713083e-02  \n",
      "2room_rental                  -4.441273e-01 -2.675642e-01  \n",
      "3room_rental                   4.609534e-06 -2.860093e-06  \n",
      "other_room_rental             -2.631259e-01  2.627616e-01  \n",
      "town_BEDOK                     1.856154e-16 -4.163336e-16  \n",
      "town_BISHAN                    2.775558e-17  6.938894e-18  \n",
      "town_BUKIT BATOK              -5.117434e-17  7.285839e-17  \n",
      "town_BUKIT PANJANG             1.613293e-16 -2.602085e-17  \n",
      "town_BUKIT TIMAH               1.908196e-17  2.966377e-16  \n",
      "town_CENTRAL                   5.854692e-17 -1.110223e-16  \n",
      "town_CHOA CHU KANG             8.500145e-17  9.540979e-18  \n",
      "town_CLEMENTI                  6.765422e-17  3.469447e-18  \n",
      "town_GEYLANG                  -1.227317e-16 -1.006140e-16  \n",
      "town_HOUGANG                   6.245005e-17 -1.387779e-17  \n",
      "town_JURONG EAST               1.942890e-16 -8.023096e-17  \n",
      "town_JURONG WEST               3.558894e-16 -1.214306e-16  \n",
      "town_KALLANG/WHAMPOA           3.989864e-17  1.526557e-16  \n",
      "town_PASIR RIS                -9.952976e-17 -8.673617e-17  \n",
      "town_PUNGGOL                   4.857226e-17  2.775558e-17  \n",
      "town_QUEENSTOWN               -4.336809e-18  2.623769e-16  \n",
      "town_SEMBAWANG                 1.110223e-16 -9.714451e-17  \n",
      "town_SENGKANG                  7.632783e-17 -2.081668e-16  \n",
      "town_SERANGOON                -0.000000e+00 -5.030698e-17  \n",
      "town_TAMPINES                  1.734723e-16 -1.110223e-16  \n",
      "town_TOA PAYOH                 4.510281e-17  2.359224e-16  \n",
      "town_WOODLANDS                 2.879641e-16 -1.665335e-16  \n",
      "town_YISHUN                    2.844947e-16 -7.632783e-17  \n",
      "flat_model_Apartment          -6.054185e-15 -1.873501e-16  \n",
      "flat_model_Maisonette         -5.880713e-15 -2.949030e-16  \n",
      "flat_model_Premium Apartment  -3.601286e-15 -1.561251e-16  \n",
      "flat_model_Premium Maisonette -2.532696e-16  2.602085e-17  \n",
      "\n",
      "[54 rows x 54 columns]\n"
     ]
    }
   ],
   "source": [
    "# Step 5: Interpret PCA results\n",
    "loadings = pd.DataFrame(\n",
    "    pca.components_.T,\n",
    "    columns=[f'PC{i+1}' for i in range(pca.n_components_)],\n",
    "    index=features.columns\n",
    ")\n",
    "\n",
    "print(\"Feature Loadings:\")\n",
    "print(loadings)"
   ]
  },
  {
   "cell_type": "markdown",
   "metadata": {},
   "source": [
    "## Model 2 : Regression"
   ]
  },
  {
   "cell_type": "code",
   "execution_count": 175,
   "metadata": {},
   "outputs": [],
   "source": [
    "from sklearn.model_selection import train_test_split\n",
    "from sklearn.linear_model import LinearRegression\n",
    "from sklearn.metrics import mean_absolute_error, mean_squared_error, r2_score"
   ]
  },
  {
   "cell_type": "code",
   "execution_count": 192,
   "metadata": {},
   "outputs": [],
   "source": [
    "# Step 1: Preprocess the data\n",
    "# Encode categorical variables\n",
    "data_encoded = pd.get_dummies(merged_df, columns=['town', 'flat_type', 'flat_model'], drop_first=True)\n",
    "\n",
    "# Separate features and target\n",
    "X = data_encoded.drop(columns=['monthly_rent', 'rent_approval_date', 'block', 'street_name', 'address', 'resale_month','average_rent_bytown', 'average_rent_bytown_bytype'])\n",
    "y = data_encoded['monthly_rent']"
   ]
  },
  {
   "cell_type": "code",
   "execution_count": 193,
   "metadata": {},
   "outputs": [],
   "source": [
    "# Step 2: Split the data\n",
    "X_train, X_test, y_train, y_test = train_test_split(X, y, test_size=0.2, random_state=77)"
   ]
  },
  {
   "cell_type": "code",
   "execution_count": 194,
   "metadata": {},
   "outputs": [
    {
     "data": {
      "text/plain": [
       "LinearRegression()"
      ]
     },
     "execution_count": 194,
     "metadata": {},
     "output_type": "execute_result"
    }
   ],
   "source": [
    "# Step 3: Train a regression model\n",
    "model = LinearRegression()\n",
    "model.fit(X_train, y_train)"
   ]
  },
  {
   "cell_type": "code",
   "execution_count": 195,
   "metadata": {},
   "outputs": [
    {
     "name": "stdout",
     "output_type": "stream",
     "text": [
      "Mean Absolute Error (MAE): 436.5961861562427\n",
      "Mean Squared Error (MSE): 332936.2910771493\n",
      "R^2 Score: 0.4609570730525824\n"
     ]
    }
   ],
   "source": [
    "# Step 4: Evaluate the model\n",
    "y_pred = model.predict(X_test)\n",
    "mae = mean_absolute_error(y_test, y_pred)\n",
    "mse = mean_squared_error(y_test, y_pred)\n",
    "r2 = r2_score(y_test, y_pred)\n",
    "\n",
    "print(f\"Mean Absolute Error (MAE): {mae}\")\n",
    "print(f\"Mean Squared Error (MSE): {mse}\")\n",
    "print(f\"R^2 Score: {r2}\")"
   ]
  },
  {
   "cell_type": "code",
   "execution_count": 196,
   "metadata": {},
   "outputs": [
    {
     "name": "stdout",
     "output_type": "stream",
     "text": [
      "\n",
      "Feature Importance:\n",
      "                          Feature   Coefficient\n",
      "0              rent_approval_year  4.409865e+02\n",
      "31               town_BUKIT TIMAH  4.341296e+02\n",
      "34                  town_CLEMENTI  3.827722e+02\n",
      "12            multistorey_carpark  3.638897e+02\n",
      "28                    town_BISHAN  3.035224e+02\n",
      "42                town_QUEENSTOWN  2.498560e+02\n",
      "39           town_KALLANG/WHAMPOA  1.954574e+02\n",
      "19                     5room_sold  1.429307e+02\n",
      "20                      exec_sold  1.423909e+02\n",
      "18                     4room_sold  1.420636e+02\n",
      "17                     3room_sold  1.417749e+02\n",
      "37               town_JURONG EAST  1.046869e+02\n",
      "46                  town_TAMPINES  8.592591e+01\n",
      "45                 town_SERANGOON  7.633192e+01\n",
      "35                   town_GEYLANG  3.694726e+01\n",
      "27                     town_BEDOK  3.635895e+01\n",
      "4              remaining_lease_yr  2.892111e+01\n",
      "47                 town_TOA PAYOH  2.864324e+01\n",
      "11                  miscellaneous  1.893565e+01\n",
      "29               town_BUKIT BATOK  1.469317e+01\n",
      "7                  year_completed  6.642122e+00\n",
      "6                   max_floor_lvl  5.362179e+00\n",
      "9                      commercial  7.341170e-01\n",
      "3                    resale_price  7.468542e-04\n",
      "5                       avg_level  1.663072e-07\n",
      "13              precinct_pavilion  1.279196e-08\n",
      "22          studio_apartment_sold  5.560423e-10\n",
      "23                   1room_rental -2.501110e-11\n",
      "24                   2room_rental -6.305640e-10\n",
      "26              other_room_rental -9.463044e-10\n",
      "21                  multigen_sold -1.716373e-09\n",
      "16                     2room_sold -3.451476e-09\n",
      "15                     1room_sold -2.427439e-08\n",
      "8                     residential -1.265795e-07\n",
      "10                  market_hawker -1.413675e-07\n",
      "1                  floor_area_sqm -1.773102e+00\n",
      "40                 town_PASIR RIS -2.869654e+00\n",
      "38               town_JURONG WEST -6.796090e+00\n",
      "32                   town_CENTRAL -1.554655e+01\n",
      "2             lease_commence_date -3.323117e+01\n",
      "36                   town_HOUGANG -8.138642e+01\n",
      "49                    town_YISHUN -1.104323e+02\n",
      "14           total_dwelling_units -1.422079e+02\n",
      "33             town_CHOA CHU KANG -1.469287e+02\n",
      "48                 town_WOODLANDS -1.538329e+02\n",
      "43                 town_SEMBAWANG -1.671797e+02\n",
      "44                  town_SENGKANG -1.892206e+02\n",
      "41                   town_PUNGGOL -1.936877e+02\n",
      "30             town_BUKIT PANJANG -2.112418e+02\n",
      "53  flat_model_Premium Maisonette -2.726914e+02\n",
      "50           flat_model_Apartment -6.095117e+02\n",
      "51          flat_model_Maisonette -6.176246e+02\n",
      "52   flat_model_Premium Apartment -6.260302e+02\n",
      "25                   3room_rental -7.113680e+02\n"
     ]
    }
   ],
   "source": [
    "# Step 5: Interpret coefficients\n",
    "coefficients = pd.DataFrame({\n",
    "    'Feature': X.columns,\n",
    "    'Coefficient': model.coef_\n",
    "}).sort_values(by='Coefficient', ascending=False)\n",
    "\n",
    "print(\"\\nFeature Importance:\")\n",
    "print(coefficients)"
   ]
  },
  {
   "cell_type": "markdown",
   "metadata": {},
   "source": [
    "## Model 3: Random Forest"
   ]
  },
  {
   "cell_type": "code",
   "execution_count": 197,
   "metadata": {},
   "outputs": [],
   "source": [
    "from sklearn.model_selection import train_test_split\n",
    "from sklearn.ensemble import RandomForestRegressor\n",
    "from sklearn.metrics import mean_absolute_error, mean_squared_error, r2_score"
   ]
  },
  {
   "cell_type": "code",
   "execution_count": 198,
   "metadata": {},
   "outputs": [],
   "source": [
    "# Step 2: Split the data\n",
    "X_train, X_test, y_train, y_test = train_test_split(X, y, test_size=0.2, random_state=77)"
   ]
  },
  {
   "cell_type": "code",
   "execution_count": 199,
   "metadata": {},
   "outputs": [
    {
     "data": {
      "text/plain": [
       "RandomForestRegressor(random_state=77)"
      ]
     },
     "execution_count": 199,
     "metadata": {},
     "output_type": "execute_result"
    }
   ],
   "source": [
    "# Step 3: Train a Random Forest Regressor\n",
    "model = RandomForestRegressor(n_estimators=100, random_state=77)\n",
    "model.fit(X_train, y_train)"
   ]
  },
  {
   "cell_type": "code",
   "execution_count": 200,
   "metadata": {},
   "outputs": [
    {
     "name": "stdout",
     "output_type": "stream",
     "text": [
      "Mean Absolute Error (MAE): 429.6085704623643\n",
      "Mean Squared Error (MSE): 351809.8198347592\n",
      "R^2 Score: 0.43039974885577126\n"
     ]
    }
   ],
   "source": [
    "# Step 4: Evaluate the model\n",
    "y_pred = model.predict(X_test)\n",
    "mae = mean_absolute_error(y_test, y_pred)\n",
    "mse = mean_squared_error(y_test, y_pred)\n",
    "r2 = r2_score(y_test, y_pred)\n",
    "\n",
    "print(f\"Mean Absolute Error (MAE): {mae}\")\n",
    "print(f\"Mean Squared Error (MSE): {mse}\")\n",
    "print(f\"R^2 Score: {r2}\")"
   ]
  },
  {
   "cell_type": "code",
   "execution_count": 201,
   "metadata": {},
   "outputs": [
    {
     "name": "stdout",
     "output_type": "stream",
     "text": [
      "\n",
      "Feature Importance:\n",
      "                          Feature    Importance\n",
      "0              rent_approval_year  5.282603e-01\n",
      "3                    resale_price  1.226742e-01\n",
      "4              remaining_lease_yr  4.476176e-02\n",
      "14           total_dwelling_units  3.808480e-02\n",
      "1                  floor_area_sqm  3.728200e-02\n",
      "20                      exec_sold  3.714738e-02\n",
      "6                   max_floor_lvl  3.156239e-02\n",
      "7                  year_completed  2.862904e-02\n",
      "2             lease_commence_date  2.815460e-02\n",
      "11                  miscellaneous  1.721148e-02\n",
      "19                     5room_sold  8.443388e-03\n",
      "38               town_JURONG WEST  7.983430e-03\n",
      "9                      commercial  7.180172e-03\n",
      "28                    town_BISHAN  4.552621e-03\n",
      "46                  town_TAMPINES  4.539004e-03\n",
      "36                   town_HOUGANG  4.293448e-03\n",
      "37               town_JURONG EAST  3.827593e-03\n",
      "45                 town_SERANGOON  3.395506e-03\n",
      "31               town_BUKIT TIMAH  3.200475e-03\n",
      "18                     4room_sold  3.117199e-03\n",
      "33             town_CHOA CHU KANG  3.062148e-03\n",
      "27                     town_BEDOK  3.007398e-03\n",
      "50           flat_model_Apartment  2.941093e-03\n",
      "35                   town_GEYLANG  2.909789e-03\n",
      "51          flat_model_Maisonette  2.773962e-03\n",
      "48                 town_WOODLANDS  2.568778e-03\n",
      "49                    town_YISHUN  2.466071e-03\n",
      "30             town_BUKIT PANJANG  2.311033e-03\n",
      "40                 town_PASIR RIS  2.294317e-03\n",
      "34                  town_CLEMENTI  2.273853e-03\n",
      "47                 town_TOA PAYOH  1.691063e-03\n",
      "29               town_BUKIT BATOK  1.684809e-03\n",
      "44                  town_SENGKANG  1.621038e-03\n",
      "43                 town_SEMBAWANG  1.191462e-03\n",
      "17                     3room_sold  8.987086e-04\n",
      "39           town_KALLANG/WHAMPOA  6.859219e-04\n",
      "52   flat_model_Premium Apartment  5.032938e-04\n",
      "42                town_QUEENSTOWN  4.094928e-04\n",
      "41                   town_PUNGGOL  1.894137e-04\n",
      "53  flat_model_Premium Maisonette  1.024263e-04\n",
      "12            multistorey_carpark  9.454091e-05\n",
      "25                   3room_rental  1.816253e-05\n",
      "32                   town_CENTRAL  4.028456e-07\n",
      "8                     residential  0.000000e+00\n",
      "5                       avg_level  0.000000e+00\n",
      "22          studio_apartment_sold  0.000000e+00\n",
      "23                   1room_rental  0.000000e+00\n",
      "13              precinct_pavilion  0.000000e+00\n",
      "15                     1room_sold  0.000000e+00\n",
      "16                     2room_sold  0.000000e+00\n",
      "21                  multigen_sold  0.000000e+00\n",
      "26              other_room_rental  0.000000e+00\n",
      "24                   2room_rental  0.000000e+00\n",
      "10                  market_hawker  0.000000e+00\n"
     ]
    }
   ],
   "source": [
    "# Step 5: Feature Importance\n",
    "importances = model.feature_importances_\n",
    "feature_importance_df = pd.DataFrame({\n",
    "    'Feature': X.columns,\n",
    "    'Importance': importances\n",
    "}).sort_values(by='Importance', ascending=False)\n",
    "\n",
    "print(\"\\nFeature Importance:\")\n",
    "print(feature_importance_df)"
   ]
  },
  {
   "cell_type": "markdown",
   "metadata": {},
   "source": [
    "## Model 4: XGBoost"
   ]
  },
  {
   "cell_type": "code",
   "execution_count": 202,
   "metadata": {},
   "outputs": [],
   "source": [
    "from sklearn.model_selection import train_test_split\n",
    "from sklearn.metrics import mean_absolute_error, mean_squared_error, r2_score\n",
    "from xgboost import XGBRegressor"
   ]
  },
  {
   "cell_type": "code",
   "execution_count": 203,
   "metadata": {},
   "outputs": [],
   "source": [
    "# Step 2: Split the data\n",
    "X_train, X_test, y_train, y_test = train_test_split(X, y, test_size=0.2, random_state=77)"
   ]
  },
  {
   "cell_type": "code",
   "execution_count": 204,
   "metadata": {},
   "outputs": [
    {
     "data": {
      "text/plain": [
       "XGBRegressor(base_score=None, booster=None, callbacks=None,\n",
       "             colsample_bylevel=None, colsample_bynode=None,\n",
       "             colsample_bytree=None, device=None, early_stopping_rounds=None,\n",
       "             enable_categorical=False, eval_metric=None, feature_types=None,\n",
       "             gamma=None, grow_policy=None, importance_type=None,\n",
       "             interaction_constraints=None, learning_rate=0.1, max_bin=None,\n",
       "             max_cat_threshold=None, max_cat_to_onehot=None,\n",
       "             max_delta_step=None, max_depth=5, max_leaves=None,\n",
       "             min_child_weight=None, missing=nan, monotone_constraints=None,\n",
       "             multi_strategy=None, n_estimators=100, n_jobs=None,\n",
       "             num_parallel_tree=None, random_state=77, ...)"
      ]
     },
     "execution_count": 204,
     "metadata": {},
     "output_type": "execute_result"
    }
   ],
   "source": [
    "# Step 3: Train an XGBoost Regressor\n",
    "model = XGBRegressor(n_estimators=100, learning_rate=0.1, max_depth=5, random_state=77)\n",
    "model.fit(X_train, y_train)"
   ]
  },
  {
   "cell_type": "code",
   "execution_count": 205,
   "metadata": {},
   "outputs": [
    {
     "name": "stdout",
     "output_type": "stream",
     "text": [
      "Mean Absolute Error (MAE): 403.96460753427425\n",
      "Mean Squared Error (MSE): 285363.18258725415\n",
      "R^2 Score: 0.5379806608429498\n"
     ]
    }
   ],
   "source": [
    "# Step 4: Evaluate the model\n",
    "y_pred = model.predict(X_test)\n",
    "mae = mean_absolute_error(y_test, y_pred)\n",
    "mse = mean_squared_error(y_test, y_pred)\n",
    "r2 = r2_score(y_test, y_pred)\n",
    "\n",
    "print(f\"Mean Absolute Error (MAE): {mae}\")\n",
    "print(f\"Mean Squared Error (MSE): {mse}\")\n",
    "print(f\"R^2 Score: {r2}\")"
   ]
  },
  {
   "cell_type": "code",
   "execution_count": 206,
   "metadata": {},
   "outputs": [
    {
     "name": "stdout",
     "output_type": "stream",
     "text": [
      "\n",
      "Feature Importance:\n",
      "                          Feature  Importance\n",
      "0              rent_approval_year    0.351636\n",
      "37               town_JURONG EAST    0.055064\n",
      "3                    resale_price    0.037213\n",
      "31               town_BUKIT TIMAH    0.036272\n",
      "46                  town_TAMPINES    0.034584\n",
      "28                    town_BISHAN    0.028925\n",
      "49                    town_YISHUN    0.028050\n",
      "38               town_JURONG WEST    0.026330\n",
      "51          flat_model_Maisonette    0.025824\n",
      "34                  town_CLEMENTI    0.022165\n",
      "48                 town_WOODLANDS    0.020899\n",
      "45                 town_SERANGOON    0.020487\n",
      "35                   town_GEYLANG    0.019408\n",
      "40                 town_PASIR RIS    0.015403\n",
      "33             town_CHOA CHU KANG    0.015396\n",
      "20                      exec_sold    0.015175\n",
      "43                 town_SEMBAWANG    0.015093\n",
      "2             lease_commence_date    0.014966\n",
      "7                  year_completed    0.014669\n",
      "11                  miscellaneous    0.014394\n",
      "30             town_BUKIT PANJANG    0.013944\n",
      "6                   max_floor_lvl    0.013931\n",
      "19                     5room_sold    0.013733\n",
      "36                   town_HOUGANG    0.013422\n",
      "14           total_dwelling_units    0.012485\n",
      "44                  town_SENGKANG    0.012121\n",
      "47                 town_TOA PAYOH    0.011567\n",
      "9                      commercial    0.011431\n",
      "39           town_KALLANG/WHAMPOA    0.010737\n",
      "29               town_BUKIT BATOK    0.010319\n",
      "42                town_QUEENSTOWN    0.009912\n",
      "1                  floor_area_sqm    0.009477\n",
      "27                     town_BEDOK    0.009227\n",
      "18                     4room_sold    0.007596\n",
      "50           flat_model_Apartment    0.007316\n",
      "17                     3room_sold    0.006406\n",
      "53  flat_model_Premium Maisonette    0.004711\n",
      "4              remaining_lease_yr    0.004355\n",
      "12            multistorey_carpark    0.003343\n",
      "41                   town_PUNGGOL    0.002012\n",
      "13              precinct_pavilion    0.000000\n",
      "52   flat_model_Premium Apartment    0.000000\n",
      "5                       avg_level    0.000000\n",
      "8                     residential    0.000000\n",
      "10                  market_hawker    0.000000\n",
      "32                   town_CENTRAL    0.000000\n",
      "15                     1room_sold    0.000000\n",
      "26              other_room_rental    0.000000\n",
      "21                  multigen_sold    0.000000\n",
      "22          studio_apartment_sold    0.000000\n",
      "23                   1room_rental    0.000000\n",
      "24                   2room_rental    0.000000\n",
      "25                   3room_rental    0.000000\n",
      "16                     2room_sold    0.000000\n"
     ]
    }
   ],
   "source": [
    "# Step 5: Feature Importance\n",
    "importances = model.feature_importances_\n",
    "feature_importance_df = pd.DataFrame({\n",
    "    'Feature': X.columns,\n",
    "    'Importance': importances\n",
    "}).sort_values(by='Importance', ascending=False)\n",
    "\n",
    "print(\"\\nFeature Importance:\")\n",
    "print(feature_importance_df)"
   ]
  },
  {
   "cell_type": "code",
   "execution_count": null,
   "metadata": {},
   "outputs": [],
   "source": []
  }
 ],
 "metadata": {
  "kernelspec": {
   "display_name": "Python 3",
   "language": "python",
   "name": "python3"
  },
  "language_info": {
   "codemirror_mode": {
    "name": "ipython",
    "version": 3
   },
   "file_extension": ".py",
   "mimetype": "text/x-python",
   "name": "python",
   "nbconvert_exporter": "python",
   "pygments_lexer": "ipython3",
   "version": "3.8.5"
  }
 },
 "nbformat": 4,
 "nbformat_minor": 4
}
